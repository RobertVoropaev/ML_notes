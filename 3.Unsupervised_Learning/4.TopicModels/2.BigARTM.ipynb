{
 "cells": [
  {
   "cell_type": "markdown",
   "metadata": {},
   "source": [
    "# Пример использования библиотеки BigARTM для тематического моделирования"
   ]
  },
  {
   "cell_type": "markdown",
   "metadata": {},
   "source": [
    "**BigARTM 0.9.0**"
   ]
  },
  {
   "cell_type": "markdown",
   "metadata": {},
   "source": [
    "Импортируем BigARTM:"
   ]
  },
  {
   "cell_type": "code",
   "execution_count": 1,
   "metadata": {},
   "outputs": [],
   "source": [
    "from matplotlib import pyplot as plt\n",
    "%matplotlib inline"
   ]
  },
  {
   "cell_type": "code",
   "execution_count": 2,
   "metadata": {},
   "outputs": [],
   "source": [
    "import artm"
   ]
  },
  {
   "cell_type": "markdown",
   "metadata": {},
   "source": [
    "## Загрузка данных "
   ]
  },
  {
   "cell_type": "markdown",
   "metadata": {},
   "source": [
    "**Формат vowpal_wabbit**:\n",
    "* Каждая строчка документ\n",
    "* Первое слово - название\n",
    "* Разделитель |\n",
    "* Название модальности (text в данном случае)\n",
    "* Далее данные"
   ]
  },
  {
   "cell_type": "code",
   "execution_count": 8,
   "metadata": {},
   "outputs": [
    {
     "name": "stdout",
     "output_type": "stream",
     "text": [
      " |text межнациональный отношение федерализм россия гг после \n"
     ]
    }
   ],
   "source": [
    "with open(\"data/school.txt\") as f:\n",
    "    print(f.readline()[:60])"
   ]
  },
  {
   "cell_type": "markdown",
   "metadata": {},
   "source": [
    "Первое считывание данных (преобразуем удобный для человека формат в формат, который использует модель) и сохраняем данные в промежуточных файлах"
   ]
  },
  {
   "cell_type": "code",
   "execution_count": 49,
   "metadata": {},
   "outputs": [],
   "source": [
    "batch_vectorizer = artm.BatchVectorizer(data_path=\"data/school.txt\", \n",
    "                                        data_format=\"vowpal_wabbit\", \n",
    "                                        target_folder=\"data/school_batches\", # папка в которую модель сохранит данные \n",
    "                                        batch_size=100,# размер батчей\n",
    "                                        gather_dictionary=True\n",
    "                                        ) "
   ]
  },
  {
   "cell_type": "markdown",
   "metadata": {},
   "source": [
    "В следующий раз данные можно считывать уже из батчей:"
   ]
  },
  {
   "cell_type": "code",
   "execution_count": 42,
   "metadata": {},
   "outputs": [],
   "source": [
    "batch_vectorizer = artm.BatchVectorizer(data_path=\"data/school_batches\", \n",
    "                                        data_format='batches')"
   ]
  },
  {
   "cell_type": "markdown",
   "metadata": {},
   "source": [
    "Создаем словарь"
   ]
  },
  {
   "cell_type": "code",
   "execution_count": 50,
   "metadata": {},
   "outputs": [],
   "source": [
    "dictionary = artm.Dictionary()\n",
    "dictionary.gather(data_path='data/school_batches')"
   ]
  },
  {
   "cell_type": "markdown",
   "metadata": {},
   "source": [
    "Аналогично вызову batch_vectorizer.dictionary"
   ]
  },
  {
   "cell_type": "markdown",
   "metadata": {},
   "source": [
    "## Модель "
   ]
  },
  {
   "cell_type": "markdown",
   "metadata": {},
   "source": [
    "### Инициализация  "
   ]
  },
  {
   "cell_type": "markdown",
   "metadata": {},
   "source": [
    "Создаем объект модели:"
   ]
  },
  {
   "cell_type": "code",
   "execution_count": 123,
   "metadata": {},
   "outputs": [],
   "source": [
    "T = 10\n",
    "model_artm = artm.ARTM(num_topics=T, # количество тем \n",
    "                       topic_names=[\"sbj\"+str(i) for i in range(T)], \n",
    "                       cache_theta=True,\n",
    "                       class_ids={\"text\":1}) # название модальности - вес элемента модальности"
   ]
  },
  {
   "cell_type": "markdown",
   "metadata": {},
   "source": [
    "Добавление метрик"
   ]
  },
  {
   "cell_type": "code",
   "execution_count": 124,
   "metadata": {},
   "outputs": [],
   "source": [
    "model_artm.scores.add(artm.PerplexityScore(name='PerplexityScore',#имя для обращения\n",
    "                                          dictionary=dictionary)) \n",
    "\n",
    "# метрики разреженности\n",
    "model_artm.scores.add(artm.SparsityPhiScore(name='SparsityPhiScore', \n",
    "                                            class_id=\"text\")) #модальности\n",
    "\n",
    "model_artm.scores.add(artm.SparsityThetaScore(name='SparsityThetaScore'))\n",
    "\n",
    "model_artm.scores.add(artm.TopTokensScore(name=\"top_words\", \n",
    "                                          num_tokens=15, \n",
    "                                          class_id=\"text\"))"
   ]
  },
  {
   "cell_type": "markdown",
   "metadata": {},
   "source": [
    "Создаем словарь и инициализируем модель с его помощью"
   ]
  },
  {
   "cell_type": "code",
   "execution_count": 146,
   "metadata": {},
   "outputs": [],
   "source": [
    "model_artm.initialize(batch_vectorizer.dictionary)"
   ]
  },
  {
   "cell_type": "markdown",
   "metadata": {},
   "source": [
    "### Обучение"
   ]
  },
  {
   "cell_type": "markdown",
   "metadata": {},
   "source": [
    "Строим модель. Offline - проходит по всей коллекции много раз. Удобно, когда коллекция маленькая."
   ]
  },
  {
   "cell_type": "code",
   "execution_count": 126,
   "metadata": {},
   "outputs": [],
   "source": [
    "model_artm.fit_offline(batch_vectorizer=batch_vectorizer, \n",
    "                       num_collection_passes=40)"
   ]
  },
  {
   "cell_type": "markdown",
   "metadata": {},
   "source": [
    "Необходимое число итераций можно отслеживать по графику перплексии. Когда она перестала меняться, модель сошлась."
   ]
  },
  {
   "cell_type": "code",
   "execution_count": 127,
   "metadata": {},
   "outputs": [
    {
     "data": {
      "image/png": "[encoded data removed]",
      "text/plain": [
       "<Figure size 432x288 with 1 Axes>"
      ]
     },
     "metadata": {
      "needs_background": "light"
     },
     "output_type": "display_data"
    }
   ],
   "source": [
    "plt.plot(model_artm.score_tracker[\"PerplexityScore\"].value)\n",
    "plt.show()"
   ]
  },
  {
   "cell_type": "markdown",
   "metadata": {},
   "source": [
    "Выведем топы слов:"
   ]
  },
  {
   "cell_type": "code",
   "execution_count": 128,
   "metadata": {},
   "outputs": [
    {
     "name": "stdout",
     "output_type": "stream",
     "text": [
      "sbj0: \n",
      "быть право который ребенок человек язык они семья это русский время для также свой что\n",
      "sbj1: \n",
      "что свой который быть это человек этот его герой она они жизнь ребенок как такой\n",
      "sbj2: \n",
      "предложение слово который что например это как быть или речь такой они если мочь этот\n",
      "sbj3: \n",
      "который что ядро это этот энергия вода земля быть масса атом как температура такой океан\n",
      "sbj4: \n",
      "поэт пушкин что стихотворение который свой это быть звук этот весь лирика год его произведение\n",
      "sbj5: \n",
      "x быть a b число этот при функция уравнение что это для если сила ток\n",
      "sbj6: \n",
      "который человек свой что жизнь его быть герой это как произведение литература этот для русский\n",
      "sbj7: \n",
      "который человек общество развитие социальный государство как политический быть это себя культура жизнь такой отношение\n",
      "sbj8: \n",
      "страна государство население который быть территория этот год являться город африка время что также хозяйство\n",
      "sbj9: \n",
      "быть который год государство война становиться свой что весь первый военный как время период империя\n"
     ]
    }
   ],
   "source": [
    "for topic_name in model_artm.topic_names:\n",
    "    print (topic_name + ': ')\n",
    "    print (*model_artm.score_tracker[\"top_words\"].last_tokens[topic_name], sep=\" \")"
   ]
  },
  {
   "cell_type": "markdown",
   "metadata": {},
   "source": [
    "Давайте посмотрим также на разреженность матриц:"
   ]
  },
  {
   "cell_type": "code",
   "execution_count": 129,
   "metadata": {},
   "outputs": [
    {
     "name": "stdout",
     "output_type": "stream",
     "text": [
      "0.7677122950553894\n",
      "0.0018907563062384725\n"
     ]
    }
   ],
   "source": [
    "print (model_artm.score_tracker[\"SparsityPhiScore\"].last_value)\n",
    "print (model_artm.score_tracker[\"SparsityThetaScore\"].last_value)"
   ]
  },
  {
   "cell_type": "markdown",
   "metadata": {},
   "source": [
    "### Регуляризация"
   ]
  },
  {
   "cell_type": "markdown",
   "metadata": {},
   "source": [
    "В темах много общеупотребительных слов (так называемой, фоновой лексики). Чтобы этого избежать, будем использовать разреживающий регуляризатор для матрицы фи. Он будет подавлять слова, которые имеют большую частоту во всей коллекции."
   ]
  },
  {
   "cell_type": "code",
   "execution_count": 130,
   "metadata": {},
   "outputs": [],
   "source": [
    "model_artm.regularizers.add(artm.SmoothSparsePhiRegularizer(name='SparsePhi', \n",
    "                                                            tau=-100, \n",
    "                                                            dictionary=batch_vectorizer.dictionary)) # коэффициент частоты слов в коллекции, на который будет домножаться tau\n",
    "#если вы хотите применять регуляризатор только к некоторым модальностям, указывайте это в параметре class_ids: class_ids=[\"text\"]"
   ]
  },
  {
   "cell_type": "markdown",
   "metadata": {},
   "source": [
    "Дообучаем модель"
   ]
  },
  {
   "cell_type": "code",
   "execution_count": 131,
   "metadata": {},
   "outputs": [],
   "source": [
    "model_artm.fit_offline(batch_vectorizer=batch_vectorizer, \n",
    "                       num_collection_passes=15)"
   ]
  },
  {
   "cell_type": "markdown",
   "metadata": {},
   "source": [
    "Попробуем менять коэффициент регуляризации:"
   ]
  },
  {
   "cell_type": "code",
   "execution_count": 132,
   "metadata": {},
   "outputs": [],
   "source": [
    "model_artm.regularizers['SparsePhi'].tau = -5*1e4"
   ]
  },
  {
   "cell_type": "markdown",
   "metadata": {},
   "source": [
    "Дообучим с новым коэффициентом"
   ]
  },
  {
   "cell_type": "code",
   "execution_count": 133,
   "metadata": {},
   "outputs": [],
   "source": [
    "model_artm.fit_offline(batch_vectorizer=batch_vectorizer, \n",
    "                       num_collection_passes=15)"
   ]
  },
  {
   "cell_type": "code",
   "execution_count": 134,
   "metadata": {},
   "outputs": [
    {
     "name": "stdout",
     "output_type": "stream",
     "text": [
      "sbj0: \n",
      "право ребенок язык свобода семья английский религиозный гражданский быт суд воспитание честь орган the закреплять\n",
      "sbj1: \n",
      "жить повесть женщина нет лермонтов поэма написать школа молодой сказка отец хороший любить гоголь умирать\n",
      "sbj2: \n",
      "слово например предложение простой какой предмет речь глагол скорость физика имя выступать свет кто живой\n",
      "sbj3: \n",
      "земля энергия вода ядро масса движение природный состоять океан частица атом заряд температура располагать южный\n",
      "sbj4: \n",
      "пушкин поэт стихотворение звук лирика писать стих поэзия сравнение почти русь ночь былина красота любовный\n",
      "sbj5: \n",
      "при x a сила если два число можно b функция пример получать тело равный случай\n",
      "sbj6: \n",
      "человек его жизнь герой русский главный произведение мир литература сам история автор литературный личность всегда\n",
      "sbj7: \n",
      "общество представлять развитие отношение социальный политический процесс форма система экономический производство культура характер понятие роль\n",
      "sbj8: \n",
      "страна территория население город древний северный мировой африка сша регион хозяйство море житель промышленность крупный\n",
      "sbj9: \n",
      "год государство становиться россия период после война начинать народ начало власть государственный смочь политика внутренний\n"
     ]
    }
   ],
   "source": [
    "for topic_name in model_artm.topic_names:\n",
    "    print (topic_name + ': ')\n",
    "    print (*model_artm.score_tracker[\"top_words\"].last_tokens[topic_name], sep=\" \")"
   ]
  },
  {
   "cell_type": "code",
   "execution_count": 135,
   "metadata": {},
   "outputs": [
    {
     "name": "stdout",
     "output_type": "stream",
     "text": [
      "0.9007267355918884\n",
      "0.09810924530029297\n"
     ]
    }
   ],
   "source": [
    "# еще раз посмотрим на разреженность\n",
    "print (model_artm.score_tracker[\"SparsityPhiScore\"].last_value)\n",
    "print (model_artm.score_tracker[\"SparsityThetaScore\"].last_value)"
   ]
  },
  {
   "cell_type": "markdown",
   "metadata": {},
   "source": [
    "Маленький коэффициент - не будет влиять на модель, большой - занулит все веса."
   ]
  },
  {
   "cell_type": "markdown",
   "metadata": {},
   "source": [
    "Обратите внимание, что разреживать модель рекомендуется только **после того, как она сошлась без регуляризации**."
   ]
  },
  {
   "cell_type": "markdown",
   "metadata": {},
   "source": [
    "Сохранение и загрузка модели:"
   ]
  },
  {
   "cell_type": "code",
   "execution_count": null,
   "metadata": {
    "collapsed": true
   },
   "outputs": [],
   "source": [
    "model_artm.save(\"my_model\")"
   ]
  },
  {
   "cell_type": "code",
   "execution_count": null,
   "metadata": {},
   "outputs": [],
   "source": [
    "T = 10\n",
    "model_artm = artm.ARTM(num_topics=T, \n",
    "                       topic_names=[\"sbj\"+str(i) for i in range(T)], \n",
    "                       cache_theta=True,\n",
    "                       class_ids={\"text\":1}) \n",
    "model_artm.load(\"my_model\")"
   ]
  },
  {
   "cell_type": "markdown",
   "metadata": {},
   "source": [
    "### Матрицы разложения "
   ]
  },
  {
   "cell_type": "markdown",
   "metadata": {},
   "source": [
    "Можно попросить матрицы в чистом виде:"
   ]
  },
  {
   "cell_type": "code",
   "execution_count": 136,
   "metadata": {},
   "outputs": [],
   "source": [
    "phi = model_artm.get_phi()"
   ]
  },
  {
   "cell_type": "code",
   "execution_count": 137,
   "metadata": {},
   "outputs": [
    {
     "data": {
      "text/html": [
       "<div>\n",
       "<style scoped>\n",
       "    .dataframe tbody tr th:only-of-type {\n",
       "        vertical-align: middle;\n",
       "    }\n",
       "\n",
       "    .dataframe tbody tr th {\n",
       "        vertical-align: top;\n",
       "    }\n",
       "\n",
       "    .dataframe thead th {\n",
       "        text-align: right;\n",
       "    }\n",
       "</style>\n",
       "<table border=\"1\" class=\"dataframe\">\n",
       "  <thead>\n",
       "    <tr style=\"text-align: right;\">\n",
       "      <th></th>\n",
       "      <th>sbj0</th>\n",
       "      <th>sbj1</th>\n",
       "      <th>sbj2</th>\n",
       "      <th>sbj3</th>\n",
       "      <th>sbj4</th>\n",
       "      <th>sbj5</th>\n",
       "      <th>sbj6</th>\n",
       "      <th>sbj7</th>\n",
       "      <th>sbj8</th>\n",
       "      <th>sbj9</th>\n",
       "    </tr>\n",
       "  </thead>\n",
       "  <tbody>\n",
       "    <tr>\n",
       "      <td>(text, скандальный)</td>\n",
       "      <td>0.0</td>\n",
       "      <td>0.000138</td>\n",
       "      <td>0.0</td>\n",
       "      <td>0.0</td>\n",
       "      <td>0.0</td>\n",
       "      <td>0.0</td>\n",
       "      <td>0.0</td>\n",
       "      <td>0.0</td>\n",
       "      <td>0.0</td>\n",
       "      <td>0.0</td>\n",
       "    </tr>\n",
       "    <tr>\n",
       "      <td>(text, проучивать)</td>\n",
       "      <td>0.0</td>\n",
       "      <td>0.000138</td>\n",
       "      <td>0.0</td>\n",
       "      <td>0.0</td>\n",
       "      <td>0.0</td>\n",
       "      <td>0.0</td>\n",
       "      <td>0.0</td>\n",
       "      <td>0.0</td>\n",
       "      <td>0.0</td>\n",
       "      <td>0.0</td>\n",
       "    </tr>\n",
       "    <tr>\n",
       "      <td>(text, бойкот)</td>\n",
       "      <td>0.0</td>\n",
       "      <td>0.000138</td>\n",
       "      <td>0.0</td>\n",
       "      <td>0.0</td>\n",
       "      <td>0.0</td>\n",
       "      <td>0.0</td>\n",
       "      <td>0.0</td>\n",
       "      <td>0.0</td>\n",
       "      <td>0.0</td>\n",
       "      <td>0.0</td>\n",
       "    </tr>\n",
       "    <tr>\n",
       "      <td>(text, заступаться)</td>\n",
       "      <td>0.0</td>\n",
       "      <td>0.000138</td>\n",
       "      <td>0.0</td>\n",
       "      <td>0.0</td>\n",
       "      <td>0.0</td>\n",
       "      <td>0.0</td>\n",
       "      <td>0.0</td>\n",
       "      <td>0.0</td>\n",
       "      <td>0.0</td>\n",
       "      <td>0.0</td>\n",
       "    </tr>\n",
       "    <tr>\n",
       "      <td>(text, допрос)</td>\n",
       "      <td>0.0</td>\n",
       "      <td>0.000138</td>\n",
       "      <td>0.0</td>\n",
       "      <td>0.0</td>\n",
       "      <td>0.0</td>\n",
       "      <td>0.0</td>\n",
       "      <td>0.0</td>\n",
       "      <td>0.0</td>\n",
       "      <td>0.0</td>\n",
       "      <td>0.0</td>\n",
       "    </tr>\n",
       "  </tbody>\n",
       "</table>\n",
       "</div>"
      ],
      "text/plain": [
       "                     sbj0      sbj1  sbj2  sbj3  sbj4  sbj5  sbj6  sbj7  sbj8  \\\n",
       "(text, скандальный)   0.0  0.000138   0.0   0.0   0.0   0.0   0.0   0.0   0.0   \n",
       "(text, проучивать)    0.0  0.000138   0.0   0.0   0.0   0.0   0.0   0.0   0.0   \n",
       "(text, бойкот)        0.0  0.000138   0.0   0.0   0.0   0.0   0.0   0.0   0.0   \n",
       "(text, заступаться)   0.0  0.000138   0.0   0.0   0.0   0.0   0.0   0.0   0.0   \n",
       "(text, допрос)        0.0  0.000138   0.0   0.0   0.0   0.0   0.0   0.0   0.0   \n",
       "\n",
       "                     sbj9  \n",
       "(text, скандальный)   0.0  \n",
       "(text, проучивать)    0.0  \n",
       "(text, бойкот)        0.0  \n",
       "(text, заступаться)   0.0  \n",
       "(text, допрос)        0.0  "
      ]
     },
     "execution_count": 137,
     "metadata": {},
     "output_type": "execute_result"
    }
   ],
   "source": [
    "phi.head()"
   ]
  },
  {
   "cell_type": "markdown",
   "metadata": {},
   "source": [
    "Матрица вероятностей тем в документах."
   ]
  },
  {
   "cell_type": "code",
   "execution_count": 138,
   "metadata": {},
   "outputs": [
    {
     "data": {
      "text/html": [
       "<div>\n",
       "<style scoped>\n",
       "    .dataframe tbody tr th:only-of-type {\n",
       "        vertical-align: middle;\n",
       "    }\n",
       "\n",
       "    .dataframe tbody tr th {\n",
       "        vertical-align: top;\n",
       "    }\n",
       "\n",
       "    .dataframe thead th {\n",
       "        text-align: right;\n",
       "    }\n",
       "</style>\n",
       "<table border=\"1\" class=\"dataframe\">\n",
       "  <thead>\n",
       "    <tr style=\"text-align: right;\">\n",
       "      <th></th>\n",
       "      <th>400</th>\n",
       "      <th>401</th>\n",
       "      <th>402</th>\n",
       "      <th>403</th>\n",
       "      <th>404</th>\n",
       "      <th>405</th>\n",
       "      <th>406</th>\n",
       "      <th>407</th>\n",
       "      <th>408</th>\n",
       "      <th>409</th>\n",
       "      <th>...</th>\n",
       "      <th>190</th>\n",
       "      <th>191</th>\n",
       "      <th>192</th>\n",
       "      <th>193</th>\n",
       "      <th>194</th>\n",
       "      <th>195</th>\n",
       "      <th>196</th>\n",
       "      <th>197</th>\n",
       "      <th>198</th>\n",
       "      <th>199</th>\n",
       "    </tr>\n",
       "  </thead>\n",
       "  <tbody>\n",
       "    <tr>\n",
       "      <td>sbj0</td>\n",
       "      <td>0.008511</td>\n",
       "      <td>0.019512</td>\n",
       "      <td>0.031963</td>\n",
       "      <td>0.143272</td>\n",
       "      <td>0.104651</td>\n",
       "      <td>0.000000</td>\n",
       "      <td>0.017862</td>\n",
       "      <td>0.000000</td>\n",
       "      <td>0.013216</td>\n",
       "      <td>0.022766</td>\n",
       "      <td>...</td>\n",
       "      <td>1.408450e-02</td>\n",
       "      <td>0.008299</td>\n",
       "      <td>0.286147</td>\n",
       "      <td>0.112905</td>\n",
       "      <td>0.010753</td>\n",
       "      <td>0.484548</td>\n",
       "      <td>0.027559</td>\n",
       "      <td>0.000000</td>\n",
       "      <td>0.005000</td>\n",
       "      <td>0.006993</td>\n",
       "    </tr>\n",
       "    <tr>\n",
       "      <td>sbj1</td>\n",
       "      <td>0.034043</td>\n",
       "      <td>0.152014</td>\n",
       "      <td>0.018265</td>\n",
       "      <td>0.009747</td>\n",
       "      <td>0.017442</td>\n",
       "      <td>0.000000</td>\n",
       "      <td>0.039648</td>\n",
       "      <td>0.005051</td>\n",
       "      <td>0.015648</td>\n",
       "      <td>0.010989</td>\n",
       "      <td>...</td>\n",
       "      <td>0.000000e+00</td>\n",
       "      <td>0.012448</td>\n",
       "      <td>0.014578</td>\n",
       "      <td>0.031963</td>\n",
       "      <td>0.011237</td>\n",
       "      <td>0.000000</td>\n",
       "      <td>0.043307</td>\n",
       "      <td>0.004184</td>\n",
       "      <td>0.164809</td>\n",
       "      <td>0.006993</td>\n",
       "    </tr>\n",
       "    <tr>\n",
       "      <td>sbj2</td>\n",
       "      <td>0.127660</td>\n",
       "      <td>0.021898</td>\n",
       "      <td>0.000000</td>\n",
       "      <td>0.093907</td>\n",
       "      <td>0.017442</td>\n",
       "      <td>0.011050</td>\n",
       "      <td>0.558912</td>\n",
       "      <td>0.035354</td>\n",
       "      <td>0.008811</td>\n",
       "      <td>0.696911</td>\n",
       "      <td>...</td>\n",
       "      <td>2.564251e-02</td>\n",
       "      <td>0.008299</td>\n",
       "      <td>0.061594</td>\n",
       "      <td>0.036530</td>\n",
       "      <td>0.007168</td>\n",
       "      <td>0.008845</td>\n",
       "      <td>0.012185</td>\n",
       "      <td>0.020921</td>\n",
       "      <td>0.020000</td>\n",
       "      <td>0.020979</td>\n",
       "    </tr>\n",
       "    <tr>\n",
       "      <td>sbj3</td>\n",
       "      <td>0.059575</td>\n",
       "      <td>0.007485</td>\n",
       "      <td>0.009132</td>\n",
       "      <td>0.016026</td>\n",
       "      <td>0.017624</td>\n",
       "      <td>0.000000</td>\n",
       "      <td>0.039813</td>\n",
       "      <td>0.636363</td>\n",
       "      <td>0.030837</td>\n",
       "      <td>0.000000</td>\n",
       "      <td>...</td>\n",
       "      <td>2.175830e-02</td>\n",
       "      <td>0.638961</td>\n",
       "      <td>0.090580</td>\n",
       "      <td>0.045662</td>\n",
       "      <td>0.025593</td>\n",
       "      <td>0.004405</td>\n",
       "      <td>0.031496</td>\n",
       "      <td>0.627257</td>\n",
       "      <td>0.030191</td>\n",
       "      <td>0.000000</td>\n",
       "    </tr>\n",
       "    <tr>\n",
       "      <td>sbj4</td>\n",
       "      <td>0.009244</td>\n",
       "      <td>0.327729</td>\n",
       "      <td>0.000000</td>\n",
       "      <td>0.019231</td>\n",
       "      <td>0.000000</td>\n",
       "      <td>0.000000</td>\n",
       "      <td>0.013369</td>\n",
       "      <td>0.005051</td>\n",
       "      <td>0.008811</td>\n",
       "      <td>0.000000</td>\n",
       "      <td>...</td>\n",
       "      <td>1.697174e-09</td>\n",
       "      <td>0.008299</td>\n",
       "      <td>0.010870</td>\n",
       "      <td>0.009132</td>\n",
       "      <td>0.000000</td>\n",
       "      <td>0.004405</td>\n",
       "      <td>0.000000</td>\n",
       "      <td>0.000000</td>\n",
       "      <td>0.030000</td>\n",
       "      <td>0.000000</td>\n",
       "    </tr>\n",
       "    <tr>\n",
       "      <td>sbj5</td>\n",
       "      <td>0.624798</td>\n",
       "      <td>0.031630</td>\n",
       "      <td>0.022831</td>\n",
       "      <td>0.656920</td>\n",
       "      <td>0.040698</td>\n",
       "      <td>0.950276</td>\n",
       "      <td>0.074890</td>\n",
       "      <td>0.146465</td>\n",
       "      <td>0.030837</td>\n",
       "      <td>0.082418</td>\n",
       "      <td>...</td>\n",
       "      <td>7.511732e-02</td>\n",
       "      <td>0.082987</td>\n",
       "      <td>0.065217</td>\n",
       "      <td>0.036530</td>\n",
       "      <td>0.032258</td>\n",
       "      <td>0.088106</td>\n",
       "      <td>0.031496</td>\n",
       "      <td>0.192469</td>\n",
       "      <td>0.065000</td>\n",
       "      <td>0.853147</td>\n",
       "    </tr>\n",
       "    <tr>\n",
       "      <td>sbj6</td>\n",
       "      <td>0.080851</td>\n",
       "      <td>0.114631</td>\n",
       "      <td>0.022831</td>\n",
       "      <td>0.012821</td>\n",
       "      <td>0.067630</td>\n",
       "      <td>0.016575</td>\n",
       "      <td>0.114537</td>\n",
       "      <td>0.035354</td>\n",
       "      <td>0.066666</td>\n",
       "      <td>0.060440</td>\n",
       "      <td>...</td>\n",
       "      <td>1.596243e-01</td>\n",
       "      <td>0.012491</td>\n",
       "      <td>0.090580</td>\n",
       "      <td>0.388128</td>\n",
       "      <td>0.046595</td>\n",
       "      <td>0.074890</td>\n",
       "      <td>0.043502</td>\n",
       "      <td>0.004199</td>\n",
       "      <td>0.525000</td>\n",
       "      <td>0.034965</td>\n",
       "    </tr>\n",
       "    <tr>\n",
       "      <td>sbj7</td>\n",
       "      <td>0.021277</td>\n",
       "      <td>0.035364</td>\n",
       "      <td>0.123288</td>\n",
       "      <td>0.012821</td>\n",
       "      <td>0.685864</td>\n",
       "      <td>0.011050</td>\n",
       "      <td>0.092511</td>\n",
       "      <td>0.055556</td>\n",
       "      <td>0.074890</td>\n",
       "      <td>0.098901</td>\n",
       "      <td>...</td>\n",
       "      <td>6.286557e-01</td>\n",
       "      <td>0.020747</td>\n",
       "      <td>0.170290</td>\n",
       "      <td>0.127854</td>\n",
       "      <td>0.189964</td>\n",
       "      <td>0.207048</td>\n",
       "      <td>0.090551</td>\n",
       "      <td>0.067289</td>\n",
       "      <td>0.085000</td>\n",
       "      <td>0.041958</td>\n",
       "    </tr>\n",
       "    <tr>\n",
       "      <td>sbj8</td>\n",
       "      <td>0.017021</td>\n",
       "      <td>0.018258</td>\n",
       "      <td>0.036530</td>\n",
       "      <td>0.009615</td>\n",
       "      <td>0.000000</td>\n",
       "      <td>0.000000</td>\n",
       "      <td>0.017621</td>\n",
       "      <td>0.025253</td>\n",
       "      <td>0.213577</td>\n",
       "      <td>0.016588</td>\n",
       "      <td>...</td>\n",
       "      <td>9.389665e-03</td>\n",
       "      <td>0.149377</td>\n",
       "      <td>0.134058</td>\n",
       "      <td>0.118721</td>\n",
       "      <td>0.282367</td>\n",
       "      <td>0.013216</td>\n",
       "      <td>0.062992</td>\n",
       "      <td>0.016736</td>\n",
       "      <td>0.015000</td>\n",
       "      <td>0.020979</td>\n",
       "    </tr>\n",
       "    <tr>\n",
       "      <td>sbj9</td>\n",
       "      <td>0.017021</td>\n",
       "      <td>0.271479</td>\n",
       "      <td>0.735160</td>\n",
       "      <td>0.025641</td>\n",
       "      <td>0.048649</td>\n",
       "      <td>0.011050</td>\n",
       "      <td>0.030837</td>\n",
       "      <td>0.055556</td>\n",
       "      <td>0.536707</td>\n",
       "      <td>0.010989</td>\n",
       "      <td>...</td>\n",
       "      <td>6.572766e-02</td>\n",
       "      <td>0.058091</td>\n",
       "      <td>0.076087</td>\n",
       "      <td>0.092574</td>\n",
       "      <td>0.394064</td>\n",
       "      <td>0.114537</td>\n",
       "      <td>0.656911</td>\n",
       "      <td>0.066946</td>\n",
       "      <td>0.060000</td>\n",
       "      <td>0.013986</td>\n",
       "    </tr>\n",
       "  </tbody>\n",
       "</table>\n",
       "<p>10 rows × 476 columns</p>\n",
       "</div>"
      ],
      "text/plain": [
       "           400       401       402       403       404       405       406  \\\n",
       "sbj0  0.008511  0.019512  0.031963  0.143272  0.104651  0.000000  0.017862   \n",
       "sbj1  0.034043  0.152014  0.018265  0.009747  0.017442  0.000000  0.039648   \n",
       "sbj2  0.127660  0.021898  0.000000  0.093907  0.017442  0.011050  0.558912   \n",
       "sbj3  0.059575  0.007485  0.009132  0.016026  0.017624  0.000000  0.039813   \n",
       "sbj4  0.009244  0.327729  0.000000  0.019231  0.000000  0.000000  0.013369   \n",
       "sbj5  0.624798  0.031630  0.022831  0.656920  0.040698  0.950276  0.074890   \n",
       "sbj6  0.080851  0.114631  0.022831  0.012821  0.067630  0.016575  0.114537   \n",
       "sbj7  0.021277  0.035364  0.123288  0.012821  0.685864  0.011050  0.092511   \n",
       "sbj8  0.017021  0.018258  0.036530  0.009615  0.000000  0.000000  0.017621   \n",
       "sbj9  0.017021  0.271479  0.735160  0.025641  0.048649  0.011050  0.030837   \n",
       "\n",
       "           407       408       409  ...           190       191       192  \\\n",
       "sbj0  0.000000  0.013216  0.022766  ...  1.408450e-02  0.008299  0.286147   \n",
       "sbj1  0.005051  0.015648  0.010989  ...  0.000000e+00  0.012448  0.014578   \n",
       "sbj2  0.035354  0.008811  0.696911  ...  2.564251e-02  0.008299  0.061594   \n",
       "sbj3  0.636363  0.030837  0.000000  ...  2.175830e-02  0.638961  0.090580   \n",
       "sbj4  0.005051  0.008811  0.000000  ...  1.697174e-09  0.008299  0.010870   \n",
       "sbj5  0.146465  0.030837  0.082418  ...  7.511732e-02  0.082987  0.065217   \n",
       "sbj6  0.035354  0.066666  0.060440  ...  1.596243e-01  0.012491  0.090580   \n",
       "sbj7  0.055556  0.074890  0.098901  ...  6.286557e-01  0.020747  0.170290   \n",
       "sbj8  0.025253  0.213577  0.016588  ...  9.389665e-03  0.149377  0.134058   \n",
       "sbj9  0.055556  0.536707  0.010989  ...  6.572766e-02  0.058091  0.076087   \n",
       "\n",
       "           193       194       195       196       197       198       199  \n",
       "sbj0  0.112905  0.010753  0.484548  0.027559  0.000000  0.005000  0.006993  \n",
       "sbj1  0.031963  0.011237  0.000000  0.043307  0.004184  0.164809  0.006993  \n",
       "sbj2  0.036530  0.007168  0.008845  0.012185  0.020921  0.020000  0.020979  \n",
       "sbj3  0.045662  0.025593  0.004405  0.031496  0.627257  0.030191  0.000000  \n",
       "sbj4  0.009132  0.000000  0.004405  0.000000  0.000000  0.030000  0.000000  \n",
       "sbj5  0.036530  0.032258  0.088106  0.031496  0.192469  0.065000  0.853147  \n",
       "sbj6  0.388128  0.046595  0.074890  0.043502  0.004199  0.525000  0.034965  \n",
       "sbj7  0.127854  0.189964  0.207048  0.090551  0.067289  0.085000  0.041958  \n",
       "sbj8  0.118721  0.282367  0.013216  0.062992  0.016736  0.015000  0.020979  \n",
       "sbj9  0.092574  0.394064  0.114537  0.656911  0.066946  0.060000  0.013986  \n",
       "\n",
       "[10 rows x 476 columns]"
      ]
     },
     "execution_count": 138,
     "metadata": {},
     "output_type": "execute_result"
    }
   ],
   "source": [
    "theta = model_artm.get_theta()\n",
    "theta"
   ]
  },
  {
   "cell_type": "markdown",
   "metadata": {},
   "source": [
    "### Предсказания для новых данных "
   ]
  },
  {
   "cell_type": "markdown",
   "metadata": {},
   "source": [
    "Если бы у нас были новые батчи, по которым мы не строим модель, а хотим только получить матрицу theta, можно пользоваться методом transform."
   ]
  },
  {
   "cell_type": "code",
   "execution_count": 140,
   "metadata": {},
   "outputs": [],
   "source": [
    "theta_test = model_artm.transform(batch_vectorizer)"
   ]
  },
  {
   "cell_type": "code",
   "execution_count": 145,
   "metadata": {},
   "outputs": [
    {
     "data": {
      "text/html": [
       "<div>\n",
       "<style scoped>\n",
       "    .dataframe tbody tr th:only-of-type {\n",
       "        vertical-align: middle;\n",
       "    }\n",
       "\n",
       "    .dataframe tbody tr th {\n",
       "        vertical-align: top;\n",
       "    }\n",
       "\n",
       "    .dataframe thead th {\n",
       "        text-align: right;\n",
       "    }\n",
       "</style>\n",
       "<table border=\"1\" class=\"dataframe\">\n",
       "  <thead>\n",
       "    <tr style=\"text-align: right;\">\n",
       "      <th></th>\n",
       "      <th>400</th>\n",
       "      <th>401</th>\n",
       "      <th>402</th>\n",
       "      <th>403</th>\n",
       "      <th>404</th>\n",
       "      <th>405</th>\n",
       "      <th>406</th>\n",
       "      <th>407</th>\n",
       "      <th>408</th>\n",
       "      <th>409</th>\n",
       "      <th>...</th>\n",
       "      <th>190</th>\n",
       "      <th>191</th>\n",
       "      <th>192</th>\n",
       "      <th>193</th>\n",
       "      <th>194</th>\n",
       "      <th>195</th>\n",
       "      <th>196</th>\n",
       "      <th>197</th>\n",
       "      <th>198</th>\n",
       "      <th>199</th>\n",
       "    </tr>\n",
       "  </thead>\n",
       "  <tbody>\n",
       "    <tr>\n",
       "      <td>sbj0</td>\n",
       "      <td>0.008511</td>\n",
       "      <td>0.019512</td>\n",
       "      <td>0.031964</td>\n",
       "      <td>0.143271</td>\n",
       "      <td>0.104651</td>\n",
       "      <td>0.000000</td>\n",
       "      <td>0.017862</td>\n",
       "      <td>0.000000</td>\n",
       "      <td>0.013216</td>\n",
       "      <td>0.022764</td>\n",
       "      <td>...</td>\n",
       "      <td>1.408452e-02</td>\n",
       "      <td>0.008299</td>\n",
       "      <td>0.286147</td>\n",
       "      <td>0.112895</td>\n",
       "      <td>0.010753</td>\n",
       "      <td>0.484547</td>\n",
       "      <td>0.027559</td>\n",
       "      <td>0.000000</td>\n",
       "      <td>0.00500</td>\n",
       "      <td>0.006993</td>\n",
       "    </tr>\n",
       "    <tr>\n",
       "      <td>sbj1</td>\n",
       "      <td>0.034043</td>\n",
       "      <td>0.152023</td>\n",
       "      <td>0.018265</td>\n",
       "      <td>0.009747</td>\n",
       "      <td>0.017442</td>\n",
       "      <td>0.000000</td>\n",
       "      <td>0.039648</td>\n",
       "      <td>0.005051</td>\n",
       "      <td>0.017793</td>\n",
       "      <td>0.010989</td>\n",
       "      <td>...</td>\n",
       "      <td>0.000000e+00</td>\n",
       "      <td>0.012448</td>\n",
       "      <td>0.014578</td>\n",
       "      <td>0.031963</td>\n",
       "      <td>0.011237</td>\n",
       "      <td>0.000000</td>\n",
       "      <td>0.043307</td>\n",
       "      <td>0.004184</td>\n",
       "      <td>0.16481</td>\n",
       "      <td>0.006993</td>\n",
       "    </tr>\n",
       "    <tr>\n",
       "      <td>sbj2</td>\n",
       "      <td>0.127660</td>\n",
       "      <td>0.021898</td>\n",
       "      <td>0.000000</td>\n",
       "      <td>0.093908</td>\n",
       "      <td>0.017442</td>\n",
       "      <td>0.011050</td>\n",
       "      <td>0.558916</td>\n",
       "      <td>0.035354</td>\n",
       "      <td>0.008811</td>\n",
       "      <td>0.696912</td>\n",
       "      <td>...</td>\n",
       "      <td>2.569757e-02</td>\n",
       "      <td>0.008299</td>\n",
       "      <td>0.061594</td>\n",
       "      <td>0.036530</td>\n",
       "      <td>0.007168</td>\n",
       "      <td>0.008845</td>\n",
       "      <td>0.012185</td>\n",
       "      <td>0.020920</td>\n",
       "      <td>0.02000</td>\n",
       "      <td>0.020979</td>\n",
       "    </tr>\n",
       "    <tr>\n",
       "      <td>sbj3</td>\n",
       "      <td>0.059574</td>\n",
       "      <td>0.007486</td>\n",
       "      <td>0.009132</td>\n",
       "      <td>0.016026</td>\n",
       "      <td>0.017624</td>\n",
       "      <td>0.000000</td>\n",
       "      <td>0.039809</td>\n",
       "      <td>0.636363</td>\n",
       "      <td>0.030837</td>\n",
       "      <td>0.000000</td>\n",
       "      <td>...</td>\n",
       "      <td>2.170485e-02</td>\n",
       "      <td>0.638961</td>\n",
       "      <td>0.090580</td>\n",
       "      <td>0.045662</td>\n",
       "      <td>0.025599</td>\n",
       "      <td>0.004405</td>\n",
       "      <td>0.031496</td>\n",
       "      <td>0.627256</td>\n",
       "      <td>0.03019</td>\n",
       "      <td>0.000000</td>\n",
       "    </tr>\n",
       "    <tr>\n",
       "      <td>sbj4</td>\n",
       "      <td>0.009246</td>\n",
       "      <td>0.327733</td>\n",
       "      <td>0.000000</td>\n",
       "      <td>0.019231</td>\n",
       "      <td>0.000000</td>\n",
       "      <td>0.000000</td>\n",
       "      <td>0.013369</td>\n",
       "      <td>0.005051</td>\n",
       "      <td>0.008811</td>\n",
       "      <td>0.000000</td>\n",
       "      <td>...</td>\n",
       "      <td>1.687502e-09</td>\n",
       "      <td>0.008299</td>\n",
       "      <td>0.010870</td>\n",
       "      <td>0.009132</td>\n",
       "      <td>0.000000</td>\n",
       "      <td>0.004405</td>\n",
       "      <td>0.000000</td>\n",
       "      <td>0.000000</td>\n",
       "      <td>0.03000</td>\n",
       "      <td>0.000000</td>\n",
       "    </tr>\n",
       "    <tr>\n",
       "      <td>sbj5</td>\n",
       "      <td>0.624797</td>\n",
       "      <td>0.031630</td>\n",
       "      <td>0.022831</td>\n",
       "      <td>0.656920</td>\n",
       "      <td>0.040698</td>\n",
       "      <td>0.950276</td>\n",
       "      <td>0.074890</td>\n",
       "      <td>0.146465</td>\n",
       "      <td>0.030837</td>\n",
       "      <td>0.082418</td>\n",
       "      <td>...</td>\n",
       "      <td>7.511744e-02</td>\n",
       "      <td>0.082987</td>\n",
       "      <td>0.065217</td>\n",
       "      <td>0.036530</td>\n",
       "      <td>0.032258</td>\n",
       "      <td>0.088106</td>\n",
       "      <td>0.031496</td>\n",
       "      <td>0.192469</td>\n",
       "      <td>0.06500</td>\n",
       "      <td>0.853147</td>\n",
       "    </tr>\n",
       "    <tr>\n",
       "      <td>sbj6</td>\n",
       "      <td>0.080851</td>\n",
       "      <td>0.114625</td>\n",
       "      <td>0.022831</td>\n",
       "      <td>0.012821</td>\n",
       "      <td>0.067559</td>\n",
       "      <td>0.016575</td>\n",
       "      <td>0.114537</td>\n",
       "      <td>0.035354</td>\n",
       "      <td>0.066641</td>\n",
       "      <td>0.060440</td>\n",
       "      <td>...</td>\n",
       "      <td>1.596245e-01</td>\n",
       "      <td>0.012491</td>\n",
       "      <td>0.090580</td>\n",
       "      <td>0.388128</td>\n",
       "      <td>0.046595</td>\n",
       "      <td>0.074890</td>\n",
       "      <td>0.043502</td>\n",
       "      <td>0.004199</td>\n",
       "      <td>0.52500</td>\n",
       "      <td>0.034965</td>\n",
       "    </tr>\n",
       "    <tr>\n",
       "      <td>sbj7</td>\n",
       "      <td>0.021277</td>\n",
       "      <td>0.035364</td>\n",
       "      <td>0.123288</td>\n",
       "      <td>0.012821</td>\n",
       "      <td>0.685864</td>\n",
       "      <td>0.011050</td>\n",
       "      <td>0.092511</td>\n",
       "      <td>0.055556</td>\n",
       "      <td>0.074890</td>\n",
       "      <td>0.098901</td>\n",
       "      <td>...</td>\n",
       "      <td>6.286536e-01</td>\n",
       "      <td>0.020747</td>\n",
       "      <td>0.170290</td>\n",
       "      <td>0.127854</td>\n",
       "      <td>0.189964</td>\n",
       "      <td>0.207048</td>\n",
       "      <td>0.090551</td>\n",
       "      <td>0.067290</td>\n",
       "      <td>0.08500</td>\n",
       "      <td>0.041958</td>\n",
       "    </tr>\n",
       "    <tr>\n",
       "      <td>sbj8</td>\n",
       "      <td>0.017021</td>\n",
       "      <td>0.018248</td>\n",
       "      <td>0.036530</td>\n",
       "      <td>0.009615</td>\n",
       "      <td>0.000000</td>\n",
       "      <td>0.000000</td>\n",
       "      <td>0.017621</td>\n",
       "      <td>0.025253</td>\n",
       "      <td>0.211454</td>\n",
       "      <td>0.016588</td>\n",
       "      <td>...</td>\n",
       "      <td>9.389678e-03</td>\n",
       "      <td>0.149377</td>\n",
       "      <td>0.134058</td>\n",
       "      <td>0.118722</td>\n",
       "      <td>0.282360</td>\n",
       "      <td>0.013216</td>\n",
       "      <td>0.062992</td>\n",
       "      <td>0.016736</td>\n",
       "      <td>0.01500</td>\n",
       "      <td>0.020979</td>\n",
       "    </tr>\n",
       "    <tr>\n",
       "      <td>sbj9</td>\n",
       "      <td>0.017021</td>\n",
       "      <td>0.271481</td>\n",
       "      <td>0.735159</td>\n",
       "      <td>0.025641</td>\n",
       "      <td>0.048720</td>\n",
       "      <td>0.011050</td>\n",
       "      <td>0.030837</td>\n",
       "      <td>0.055556</td>\n",
       "      <td>0.536712</td>\n",
       "      <td>0.010989</td>\n",
       "      <td>...</td>\n",
       "      <td>6.572775e-02</td>\n",
       "      <td>0.058091</td>\n",
       "      <td>0.076087</td>\n",
       "      <td>0.092584</td>\n",
       "      <td>0.394066</td>\n",
       "      <td>0.114537</td>\n",
       "      <td>0.656912</td>\n",
       "      <td>0.066946</td>\n",
       "      <td>0.06000</td>\n",
       "      <td>0.013986</td>\n",
       "    </tr>\n",
       "  </tbody>\n",
       "</table>\n",
       "<p>10 rows × 476 columns</p>\n",
       "</div>"
      ],
      "text/plain": [
       "           400       401       402       403       404       405       406  \\\n",
       "sbj0  0.008511  0.019512  0.031964  0.143271  0.104651  0.000000  0.017862   \n",
       "sbj1  0.034043  0.152023  0.018265  0.009747  0.017442  0.000000  0.039648   \n",
       "sbj2  0.127660  0.021898  0.000000  0.093908  0.017442  0.011050  0.558916   \n",
       "sbj3  0.059574  0.007486  0.009132  0.016026  0.017624  0.000000  0.039809   \n",
       "sbj4  0.009246  0.327733  0.000000  0.019231  0.000000  0.000000  0.013369   \n",
       "sbj5  0.624797  0.031630  0.022831  0.656920  0.040698  0.950276  0.074890   \n",
       "sbj6  0.080851  0.114625  0.022831  0.012821  0.067559  0.016575  0.114537   \n",
       "sbj7  0.021277  0.035364  0.123288  0.012821  0.685864  0.011050  0.092511   \n",
       "sbj8  0.017021  0.018248  0.036530  0.009615  0.000000  0.000000  0.017621   \n",
       "sbj9  0.017021  0.271481  0.735159  0.025641  0.048720  0.011050  0.030837   \n",
       "\n",
       "           407       408       409  ...           190       191       192  \\\n",
       "sbj0  0.000000  0.013216  0.022764  ...  1.408452e-02  0.008299  0.286147   \n",
       "sbj1  0.005051  0.017793  0.010989  ...  0.000000e+00  0.012448  0.014578   \n",
       "sbj2  0.035354  0.008811  0.696912  ...  2.569757e-02  0.008299  0.061594   \n",
       "sbj3  0.636363  0.030837  0.000000  ...  2.170485e-02  0.638961  0.090580   \n",
       "sbj4  0.005051  0.008811  0.000000  ...  1.687502e-09  0.008299  0.010870   \n",
       "sbj5  0.146465  0.030837  0.082418  ...  7.511744e-02  0.082987  0.065217   \n",
       "sbj6  0.035354  0.066641  0.060440  ...  1.596245e-01  0.012491  0.090580   \n",
       "sbj7  0.055556  0.074890  0.098901  ...  6.286536e-01  0.020747  0.170290   \n",
       "sbj8  0.025253  0.211454  0.016588  ...  9.389678e-03  0.149377  0.134058   \n",
       "sbj9  0.055556  0.536712  0.010989  ...  6.572775e-02  0.058091  0.076087   \n",
       "\n",
       "           193       194       195       196       197      198       199  \n",
       "sbj0  0.112895  0.010753  0.484547  0.027559  0.000000  0.00500  0.006993  \n",
       "sbj1  0.031963  0.011237  0.000000  0.043307  0.004184  0.16481  0.006993  \n",
       "sbj2  0.036530  0.007168  0.008845  0.012185  0.020920  0.02000  0.020979  \n",
       "sbj3  0.045662  0.025599  0.004405  0.031496  0.627256  0.03019  0.000000  \n",
       "sbj4  0.009132  0.000000  0.004405  0.000000  0.000000  0.03000  0.000000  \n",
       "sbj5  0.036530  0.032258  0.088106  0.031496  0.192469  0.06500  0.853147  \n",
       "sbj6  0.388128  0.046595  0.074890  0.043502  0.004199  0.52500  0.034965  \n",
       "sbj7  0.127854  0.189964  0.207048  0.090551  0.067290  0.08500  0.041958  \n",
       "sbj8  0.118722  0.282360  0.013216  0.062992  0.016736  0.01500  0.020979  \n",
       "sbj9  0.092584  0.394066  0.114537  0.656912  0.066946  0.06000  0.013986  \n",
       "\n",
       "[10 rows x 476 columns]"
      ]
     },
     "execution_count": 145,
     "metadata": {},
     "output_type": "execute_result"
    }
   ],
   "source": [
    "theta_test"
   ]
  },
  {
   "cell_type": "code",
   "execution_count": null,
   "metadata": {},
   "outputs": [],
   "source": [
    "|"
   ]
  }
 ],
 "metadata": {
  "kernelspec": {
   "display_name": "Python 3",
   "language": "python",
   "name": "python3"
  },
  "language_info": {
   "codemirror_mode": {
    "name": "ipython",
    "version": 3
   },
   "file_extension": ".py",
   "mimetype": "text/x-python",
   "name": "python",
   "nbconvert_exporter": "python",
   "pygments_lexer": "ipython3",
   "version": "3.7.4"
  }
 },
 "nbformat": 4,
 "nbformat_minor": 1
}
