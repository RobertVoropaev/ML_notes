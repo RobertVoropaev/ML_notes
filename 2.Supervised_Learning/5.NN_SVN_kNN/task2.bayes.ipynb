{
 "cells": [
  {
   "cell_type": "code",
   "execution_count": 1,
   "metadata": {},
   "outputs": [
    {
     "name": "stdout",
     "output_type": "stream",
     "text": [
      "Populating the interactive namespace from numpy and matplotlib\n"
     ]
    }
   ],
   "source": [
    "from sklearn import datasets, model_selection\n",
    "\n",
    "import warnings\n",
    "warnings.filterwarnings('ignore')\n",
    "\n",
    "%pylab inline"
   ]
  },
  {
   "cell_type": "code",
   "execution_count": 2,
   "metadata": {},
   "outputs": [],
   "source": [
    "digits = datasets.load_digits()\n",
    "breast = datasets.load_breast_cancer()"
   ]
  },
  {
   "cell_type": "code",
   "execution_count": 3,
   "metadata": {},
   "outputs": [],
   "source": [
    "from sklearn import naive_bayes"
   ]
  },
  {
   "cell_type": "code",
   "execution_count": 4,
   "metadata": {},
   "outputs": [],
   "source": [
    "bern = naive_bayes.BernoulliNB()\n",
    "mult = naive_bayes.MultinomialNB()\n",
    "gaus = naive_bayes.GaussianNB()"
   ]
  },
  {
   "cell_type": "code",
   "execution_count": 5,
   "metadata": {},
   "outputs": [],
   "source": [
    "bern_res1 = model_selection.cross_val_score(bern, digits.data, digits.target).mean()\n",
    "mult_res1 = model_selection.cross_val_score(mult, digits.data, digits.target).mean()\n",
    "gaus_res1 = model_selection.cross_val_score(gaus, digits.data, digits.target).mean()"
   ]
  },
  {
   "cell_type": "code",
   "execution_count": 6,
   "metadata": {},
   "outputs": [],
   "source": [
    "bern_res2 = model_selection.cross_val_score(bern, breast.data, breast.target).mean()\n",
    "mult_res2 = model_selection.cross_val_score(mult, breast.data, breast.target).mean()\n",
    "gaus_res2 = model_selection.cross_val_score(gaus, breast.data, breast.target).mean()"
   ]
  },
  {
   "cell_type": "code",
   "execution_count": 7,
   "metadata": {},
   "outputs": [
    {
     "name": "stdout",
     "output_type": "stream",
     "text": [
      "Digits\n",
      "0.8258236507780582\n",
      "0.8708771489735053\n",
      "0.8186003803550138\n",
      "Breast\n",
      "0.6274204028589994\n",
      "0.8945790401930752\n",
      "0.9367492806089297\n"
     ]
    }
   ],
   "source": [
    "print(\"Digits\")\n",
    "print(bern_res1)\n",
    "print(mult_res1)\n",
    "print(gaus_res1)\n",
    "\n",
    "print(\"Breast\")\n",
    "print(bern_res2)\n",
    "print(mult_res2)\n",
    "print(gaus_res2)"
   ]
  },
  {
   "cell_type": "code",
   "execution_count": 8,
   "metadata": {},
   "outputs": [],
   "source": [
    "with open(\"answers/bayes_task2\", \"w\") as f:\n",
    "    f.write(str(mult_res1))\n",
    "    \n",
    "with open(\"answers/bayes_task1\", \"w\") as f:\n",
    "    f.write(str(gaus_res2))"
   ]
  },
  {
   "cell_type": "code",
   "execution_count": 9,
   "metadata": {},
   "outputs": [],
   "source": [
    "with open(\"answers/bayes_task3\", \"w\") as f:\n",
    "    f.write(\"3 4\")"
   ]
  }
 ],
 "metadata": {
  "kernelspec": {
   "display_name": "Python 3",
   "language": "python",
   "name": "python3"
  },
  "language_info": {
   "codemirror_mode": {
    "name": "ipython",
    "version": 3
   },
   "file_extension": ".py",
   "mimetype": "text/x-python",
   "name": "python",
   "nbconvert_exporter": "python",
   "pygments_lexer": "ipython3",
   "version": "3.7.4"
  }
 },
 "nbformat": 4,
 "nbformat_minor": 2
}
