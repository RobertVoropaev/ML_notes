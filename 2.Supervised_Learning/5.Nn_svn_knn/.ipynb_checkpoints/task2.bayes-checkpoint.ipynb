{
 "cells": [
  {
   "cell_type": "code",
   "execution_count": 1,
   "metadata": {},
   "outputs": [
    {
     "name": "stdout",
     "output_type": "stream",
     "text": [
      "Populating the interactive namespace from numpy and matplotlib\n"
     ]
    }
   ],
   "source": [
    "from sklearn import datasets, model_selection\n",
    "\n",
    "%pylab inline"
   ]
  },
  {
   "cell_type": "code",
   "execution_count": null,
   "metadata": {},
   "outputs": [],
   "source": [
    "digits = datasets.load_digits()\n",
    "breast = datasets.load_breast_cancer()"
   ]
  },
  {
   "cell_type": "code",
   "execution_count": null,
   "metadata": {},
   "outputs": [],
   "source": [
    "from sklearn import naive_bayes"
   ]
  },
  {
   "cell_type": "code",
   "execution_count": null,
   "metadata": {},
   "outputs": [],
   "source": [
    "bern = naive_bayes.BernoulliNB()\n",
    "mult = naive_bayes.MultinomialNB()\n",
    "gaus = naive_bayes.GaussianNB()"
   ]
  },
  {
   "cell_type": "code",
   "execution_count": null,
   "metadata": {},
   "outputs": [],
   "source": [
    "bern_res1 = model_selection.cross_val_score(bern, digits.data, digits.target).mean()\n",
    "mult_res1 = model_selection.cross_val_score(mult, digits.data, digits.target).mean()\n",
    "gaus_res1 = model_selection.cross_val_score(gaus, digits.data, digits.target).mean()"
   ]
  },
  {
   "cell_type": "code",
   "execution_count": null,
   "metadata": {},
   "outputs": [],
   "source": [
    "bern_res2 = model_selection.cross_val_score(bern, breast.data, breast.target).mean()\n",
    "mult_res2 = model_selection.cross_val_score(mult, breast.data, breast.target).mean()\n",
    "gaus_res2 = model_selection.cross_val_score(gaus, breast.data, breast.target).mean()"
   ]
  },
  {
   "cell_type": "code",
   "execution_count": null,
   "metadata": {},
   "outputs": [],
   "source": [
    "print(\"Digits\")\n",
    "print(bern_res1)\n",
    "print(mult_res1)\n",
    "print(gaus_res1)\n",
    "\n",
    "print(\"Breast\")\n",
    "print(bern_res2)\n",
    "print(mult_res2)\n",
    "print(gaus_res2)"
   ]
  },
  {
   "cell_type": "code",
   "execution_count": null,
   "metadata": {},
   "outputs": [],
   "source": [
    "with open(\"ansers/bayes_task2\", \"w\") as f:\n",
    "    f.write(str(mult_res1))\n",
    "    \n",
    "with open(\"ansers/bayes_task1\", \"w\") as f:\n",
    "    f.write(str(gaus_res2))"
   ]
  },
  {
   "cell_type": "code",
   "execution_count": null,
   "metadata": {},
   "outputs": [],
   "source": [
    "with open(\"ansers/bayes_task3\", \"w\") as f:\n",
    "    f.write(\"3 4\")"
   ]
  }
 ],
 "metadata": {
  "kernelspec": {
   "display_name": "Python 3",
   "language": "python",
   "name": "python3"
  },
  "language_info": {
   "codemirror_mode": {
    "name": "ipython",
    "version": 3
   },
   "file_extension": ".py",
   "mimetype": "text/x-python",
   "name": "python",
   "nbconvert_exporter": "python",
   "pygments_lexer": "ipython3",
   "version": "3.7.4"
  }
 },
 "nbformat": 4,
 "nbformat_minor": 2
}
