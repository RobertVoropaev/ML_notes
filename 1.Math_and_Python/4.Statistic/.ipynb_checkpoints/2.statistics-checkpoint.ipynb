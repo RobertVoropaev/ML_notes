{
 "cells": [
  {
   "cell_type": "markdown",
   "metadata": {},
   "source": [
    "# СТАТИСТИКИ"
   ]
  },
  {
   "cell_type": "code",
   "execution_count": 2,
   "metadata": {},
   "outputs": [],
   "source": [
    "%matplotlib inline\n",
    "import pandas as pd\n",
    "import numpy as np\n",
    "import matplotlib.pyplot as plt\n",
    "\n",
    "#библиотека с распределениями\n",
    "import scipy.stats as sts"
   ]
  },
  {
   "cell_type": "markdown",
   "metadata": {},
   "source": [
    "# Дискретное распределение"
   ]
  },
  {
   "cell_type": "markdown",
   "metadata": {},
   "source": [
    "Сгенерируем выборку"
   ]
  },
  {
   "cell_type": "code",
   "execution_count": 3,
   "metadata": {},
   "outputs": [
    {
     "data": {
      "text/plain": [
       "array([6, 4, 5, 6, 5, 1, 1, 6, 1, 6, 5, 3, 4, 4, 4, 5, 2, 4, 2, 3, 4, 2,\n",
       "       3, 4, 3, 2, 6, 4, 5, 6, 5, 3, 6, 5, 5, 1, 5, 2, 5, 4, 2, 1, 3, 5,\n",
       "       3, 3, 5, 6, 1, 3, 5, 2, 1, 5, 1, 5, 6, 1, 6, 5, 6, 1, 3, 6, 5, 3,\n",
       "       3, 4, 6, 2, 1, 1, 4, 6, 1, 3, 2, 2, 6, 2, 2, 3, 1, 3, 6, 3, 3, 2,\n",
       "       3, 4, 2, 5, 4, 2, 6, 6, 1, 4, 5, 3])"
      ]
     },
     "execution_count": 3,
     "metadata": {},
     "output_type": "execute_result"
    }
   ],
   "source": [
    "sample = np.random.choice([1,2,3,4,5,6], 100)\n",
    "sample"
   ]
  },
  {
   "cell_type": "markdown",
   "metadata": {},
   "source": [
    "Модуль collections.Counter позволяет считать количество одинаковых элементов"
   ]
  },
  {
   "cell_type": "code",
   "execution_count": 9,
   "metadata": {},
   "outputs": [
    {
     "data": {
      "text/plain": [
       "Counter({1: 2, 2: 1, 4: 1})"
      ]
     },
     "execution_count": 9,
     "metadata": {},
     "output_type": "execute_result"
    }
   ],
   "source": [
    "from collections import Counter\n",
    "\n",
    "Counter([1, 2, 1, 4])"
   ]
  },
  {
   "cell_type": "code",
   "execution_count": 7,
   "metadata": {},
   "outputs": [
    {
     "name": "stdout",
     "output_type": "stream",
     "text": [
      "Counter({5: 19, 3: 19, 6: 18, 1: 15, 2: 15, 4: 14})\n"
     ]
    }
   ],
   "source": [
    "c = Counter(sample)\n",
    "print(c)"
   ]
  },
  {
   "cell_type": "markdown",
   "metadata": {},
   "source": [
    "Поделив на общее число подбрасываний получим оценку функции вероятности дискретного распределения"
   ]
  },
  {
   "cell_type": "code",
   "execution_count": 10,
   "metadata": {},
   "outputs": [
    {
     "data": {
      "text/plain": [
       "{6: 0.18, 4: 0.14, 5: 0.19, 1: 0.15, 3: 0.19, 2: 0.15}"
      ]
     },
     "execution_count": 10,
     "metadata": {},
     "output_type": "execute_result"
    }
   ],
   "source": [
    "{k: v/100. for k, v in c.items()}"
   ]
  },
  {
   "cell_type": "markdown",
   "metadata": {},
   "source": [
    "# Непрерывное распределение"
   ]
  },
  {
   "cell_type": "code",
   "execution_count": 12,
   "metadata": {},
   "outputs": [
    {
     "data": {
      "text/plain": [
       "array([ 5.17546481e-01,  1.53666660e+00, -2.79167144e-01, -1.48116882e+00,\n",
       "        5.72159338e-01,  9.77441741e-01, -1.53905804e-01, -5.26244152e-01,\n",
       "       -7.04455046e-01,  8.13689359e-01, -7.01919809e-01, -2.05786244e+00,\n",
       "        2.65504538e-01, -2.94524902e-01,  2.24160703e+00, -1.89252879e+00,\n",
       "        1.64189120e-01,  1.22858885e+00,  2.77056021e-01,  1.37665050e+00,\n",
       "       -5.77653810e-02, -1.55700222e+00,  1.86198836e+00, -8.58610955e-01,\n",
       "       -1.12806308e+00,  5.52789680e-01,  7.67273658e-01,  1.07332399e-01,\n",
       "       -1.16909174e+00, -6.99952078e-01,  3.89523589e-01, -6.75230474e-01,\n",
       "        3.24978638e-01,  7.91755342e-01,  4.89374692e-01,  3.12223754e-01,\n",
       "       -6.27190772e-01, -7.71562077e-01, -2.60772785e-01, -1.33260305e-03,\n",
       "       -6.82892820e-01,  5.66616449e-01,  1.61900772e+00,  6.66904127e-01,\n",
       "       -4.37564505e-01,  8.84401485e-01,  2.22890892e-01, -1.16609799e-01,\n",
       "        3.19268651e-01,  4.08873945e-01,  1.31124028e+00, -1.96144010e-01,\n",
       "        7.30782901e-01, -8.64776008e-02,  3.54099811e-01,  6.82860085e-02,\n",
       "        5.15685371e-01, -1.81087410e+00, -1.94866767e+00, -1.61835291e+00,\n",
       "       -3.36516072e-01,  9.49061454e-01, -6.28125103e-01, -2.87554427e-01,\n",
       "        4.11073731e-01,  1.04544148e+00, -3.72478931e-01, -7.45359025e-01,\n",
       "        6.41905799e-01,  5.33043708e-02,  1.32372298e+00,  1.53082163e+00,\n",
       "        1.11697177e+00,  3.85861086e-02,  9.87998504e-01, -1.78429299e-01,\n",
       "        4.94418191e-01, -1.73189131e+00, -9.97545038e-02,  1.57225139e+00,\n",
       "        9.74826587e-01,  9.50496302e-01,  5.39955338e-01,  1.75717032e-01,\n",
       "        6.56159656e-01, -2.45869937e+00, -1.92999926e+00,  1.91364034e+00,\n",
       "       -9.23606028e-01, -7.09207578e-01,  6.08196116e-01, -1.63775550e-01,\n",
       "       -4.51348658e-01,  1.65324011e-01, -2.25978853e+00, -9.36108088e-02,\n",
       "        3.04975383e-02, -1.02504783e+00, -1.46422851e+00,  1.79469648e-01])"
      ]
     },
     "execution_count": 12,
     "metadata": {},
     "output_type": "execute_result"
    }
   ],
   "source": [
    "norm = sts.norm(0, 1)\n",
    "sample = norm.rvs(100)\n",
    "sample"
   ]
  },
  {
   "cell_type": "code",
   "execution_count": 16,
   "metadata": {},
   "outputs": [
    {
     "data": {
      "image/png": "[encoded data removed]",
      "text/plain": [
       "<Figure size 432x288 with 1 Axes>"
      ]
     },
     "metadata": {},
     "output_type": "display_data"
    }
   ],
   "source": [
    "x = np.linspace(-4,4,100)\n",
    "\n",
    "cdf = norm.cdf(x)\n",
    "plt.plot(x, cdf, label='theoretical CDF')\n",
    "\n",
    "# для построения ECDF используем библиотеку statsmodels\n",
    "from statsmodels.distributions.empirical_distribution import ECDF\n",
    "\n",
    "ecdf = ECDF(sample)\n",
    "plt.step(ecdf.x, ecdf.y, label='ECDF')\n",
    "\n",
    "plt.ylabel('$f(x)$')\n",
    "plt.xlabel('$x$')\n",
    "plt.legend()\n",
    "plt.show()"
   ]
  },
  {
   "cell_type": "markdown",
   "metadata": {},
   "source": [
    "## Гистограммы"
   ]
  },
  {
   "cell_type": "markdown",
   "metadata": {},
   "source": [
    "С автоматическим шагом"
   ]
  },
  {
   "cell_type": "code",
   "execution_count": 18,
   "metadata": {},
   "outputs": [
    {
     "name": "stderr",
     "output_type": "stream",
     "text": [
      "/home/rv/anaconda3/lib/python3.6/site-packages/matplotlib/axes/_axes.py:6462: UserWarning: The 'normed' kwarg is deprecated, and has been replaced by the 'density' kwarg.\n",
      "  warnings.warn(\"The 'normed' kwarg is deprecated, and has been \"\n"
     ]
    },
    {
     "data": {
      "image/png": "[encoded data removed]",
      "text/plain": [
       "<Figure size 432x288 with 1 Axes>"
      ]
     },
     "metadata": {},
     "output_type": "display_data"
    }
   ],
   "source": [
    "plt.hist(sample, normed=True)\n",
    "plt.ylabel('fraction of samples')\n",
    "plt.xlabel('$x$')\n",
    "plt.show()"
   ]
  },
  {
   "cell_type": "markdown",
   "metadata": {},
   "source": [
    "С ручной установкой шага"
   ]
  },
  {
   "cell_type": "code",
   "execution_count": 22,
   "metadata": {},
   "outputs": [
    {
     "name": "stderr",
     "output_type": "stream",
     "text": [
      "/home/rv/anaconda3/lib/python3.6/site-packages/matplotlib/axes/_axes.py:6462: UserWarning: The 'normed' kwarg is deprecated, and has been replaced by the 'density' kwarg.\n",
      "  warnings.warn(\"The 'normed' kwarg is deprecated, and has been \"\n"
     ]
    },
    {
     "data": {
      "image/png": "[encoded data removed]",
      "text/plain": [
       "<Figure size 432x288 with 1 Axes>"
      ]
     },
     "metadata": {},
     "output_type": "display_data"
    }
   ],
   "source": [
    "plt.hist(sample, bins=3, normed=True)\n",
    "plt.ylabel('fraction of samples')\n",
    "plt.xlabel('$x$')\n",
    "plt.show()"
   ]
  },
  {
   "cell_type": "markdown",
   "metadata": {},
   "source": [
    "Эмпирическая оценка плотности, построенная по выборке с помощью ядерного сглаживания:"
   ]
  },
  {
   "cell_type": "code",
   "execution_count": 25,
   "metadata": {},
   "outputs": [
    {
     "data": {
      "image/png": "[encoded data removed]",
      "text/plain": [
       "<Figure size 432x288 with 1 Axes>"
      ]
     },
     "metadata": {},
     "output_type": "display_data"
    }
   ],
   "source": [
    "# для построения используем библиотеку Pandas:\n",
    "df = pd.DataFrame(sample, columns=['KDE'])\n",
    "ax = df.plot(kind='density')\n",
    "\n",
    "# на том же графике построим теоретическую плотность распределения:\n",
    "x = np.linspace(-4,4,100)\n",
    "pdf = norm.pdf(x)\n",
    "plt.plot(x, pdf, label='theoretical pdf', alpha=0.5)\n",
    "plt.legend()\n",
    "plt.ylabel('$f(x)$')\n",
    "plt.xlabel('$x$')\n",
    "plt.show()"
   ]
  },
  {
   "cell_type": "code",
   "execution_count": null,
   "metadata": {},
   "outputs": [],
   "source": []
  }
 ],
 "metadata": {
  "kernelspec": {
   "display_name": "Python 3",
   "language": "python",
   "name": "python3"
  },
  "language_info": {
   "codemirror_mode": {
    "name": "ipython",
    "version": 3
   },
   "file_extension": ".py",
   "mimetype": "text/x-python",
   "name": "python",
   "nbconvert_exporter": "python",
   "pygments_lexer": "ipython3",
   "version": "3.7.4"
  }
 },
 "nbformat": 4,
 "nbformat_minor": 2
}
