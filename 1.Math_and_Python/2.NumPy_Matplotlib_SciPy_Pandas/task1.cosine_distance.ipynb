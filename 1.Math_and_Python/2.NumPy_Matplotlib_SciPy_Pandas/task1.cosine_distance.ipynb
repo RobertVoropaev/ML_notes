{
 "cells": [
  {
   "cell_type": "markdown",
   "metadata": {},
   "source": [
    "# Косинусное расстояние для сравнения предложений"
   ]
  },
  {
   "cell_type": "markdown",
   "metadata": {},
   "source": [
    "Задача 1: сравнение предложений\n",
    "Дан набор предложений, скопированных с Википедии. Каждое из них имеет \"кошачью тему\" в одном из трех смыслов:\n",
    "\n",
    "кошки (животные)\n",
    "UNIX-утилита cat для вывода содержимого файлов\n",
    "версии операционной системы OS X, названные в честь семейства кошачьих\n",
    "Ваша задача — найти два предложения, которые ближе всего по смыслу к расположенному в самой первой строке. В качестве меры близости по смыслу мы будем использовать косинусное расстояние.\n",
    "\n",
    "Выполните следующие шаги:\n",
    "\n",
    "Скачайте файл с предложениями (sentences.txt).\n",
    "Каждая строка в файле соответствует одному предложению. Считайте их, приведите каждую к нижнему регистру с помощью строковой функции lower().\n",
    "Произведите токенизацию, то есть разбиение текстов на слова. Для этого можно воспользоваться регулярным выражением, которое считает разделителем любой символ, не являющийся буквой: re.split('[^a-z]', t). Не забудьте удалить пустые слова после разделения.\n",
    "Составьте список всех слов, встречающихся в предложениях. Сопоставьте каждому слову индекс от нуля до (d - 1), где d — число различных слов в предложениях. Для этого удобно воспользоваться структурой dict.\n",
    "Создайте матрицу размера n * d, где n — число предложений. Заполните ее: элемент с индексом (i, j) в этой матрице должен быть равен количеству вхождений j-го слова в i-е предложение. У вас должна получиться матрица размера 22 * 254.\n",
    "Найдите косинусное расстояние от предложения в самой первой строке (In comparison to dogs, cats have not undergone...) до всех остальных с помощью функции scipy.spatial.distance.cosine. Какие номера у двух предложений, ближайших к нему по этому расстоянию (строки нумеруются с нуля)? Эти два числа и будут ответами на задание. Само предложение (In comparison to dogs, cats have not undergone... ) имеет индекс 0.\n",
    "Запишите полученные числа в файл, разделив пробелом. Обратите внимание, что файл должен состоять из одной строки, в конце которой не должно быть переноса. Пример файла с решением вы можете найти в конце задания (submission-1.txt).\n",
    "Совпадают ли ближайшие два предложения по тематике с первым? Совпадают ли тематики у следующих по близости предложений?\n",
    "Разумеется, использованный вами метод крайне простой. Например, он не учитывает формы слов (так, cat и cats он считает разными словами, хотя по сути они означают одно и то же), не удаляет из текстов артикли и прочие ненужные слова. Позже мы будем подробно изучать анализ текстов, где выясним, как достичь высокого качества в задаче поиска похожих предложений."
   ]
  },
  {
   "cell_type": "markdown",
   "metadata": {},
   "source": [
    "## Выделение слов"
   ]
  },
  {
   "cell_type": "markdown",
   "metadata": {},
   "source": [
    "Считывание строк в массив"
   ]
  },
  {
   "cell_type": "code",
   "execution_count": 85,
   "metadata": {},
   "outputs": [
    {
     "name": "stdout",
     "output_type": "stream",
     "text": [
      "['in comparison to dogs, cats have not undergone major changes during the domestication process.\\n', 'as cat simply catenates streams of bytes, it can be also used to concatenate binary files, where it will just concatenate sequence of bytes.\\n', 'a common interactive use of cat for a single file is to output the content of a file to standard output.\\n', 'cats can hear sounds too faint or too high in frequency for human ears, such as those made by mice and other small animals.\\n', 'in one, people deliberately tamed cats in a process of artificial selection, as they were useful predators of vermin.\\n', 'the domesticated cat and its closest wild ancestor are both diploid organisms that possess 38 chromosomes and roughly 20,000 genes.\\n', 'domestic cats are similar in size to the other members of the genus felis, typically weighing between 4 and 5 kg (8.8 and 11.0 lb).\\n', 'however, if the output is piped or redirected, cat is unnecessary.\\n', 'cat with one named file is safer where human error is a concern - one wrong use of the default redirection symbol \">\" instead of \"<\" (often adjacent on keyboards) may permanently delete the file you were just needing to read.\\n', 'in terms of legibility, a sequence of commands starting with cat and connected by pipes has a clear left-to-right flow of information.\\n', 'cat command is one of the basic commands that you learned when you started in the unix / linux world.\\n', 'using cat command, the lines received from stdin can be redirected to a new file using redirection symbols.\\n', 'when you type simply cat command without any arguments, it just receives the stdin content and displays it in the stdout.\\n', 'leopard was released on october 26, 2007 as the successor of tiger (version 10.4), and is available in two editions.\\n', 'according to apple, leopard contains over 300 changes and enhancements over its predecessor, mac os x tiger.\\n', 'as of mid 2010, some apple computers have firmware factory installed which will no longer allow installation of mac os x leopard.\\n', 'since apple moved to using intel processors in their computers, the osx86 community has developed and now also allows mac os x tiger and later releases to be installed on non-apple x86-based computers.\\n', \"os x mountain lion was released on july 25, 2012 for purchase and download through apple's mac app store, as part of a switch to releasing os x versions online and every year.\\n\", 'apple has released a small patch for the three most recent versions of safari running on os x yosemite, mavericks, and mountain lion.\\n', 'the mountain lion release marks the second time apple has offered an incremental upgrade, rather than releasing a new cat entirely.\\n', \"mac os x mountain lion installs in place, so you won't need to create a separate disk or run the installation off an external drive.\\n\", \"the fifth major update to mac os x, leopard, contains such a mountain of features - more than 300 by apple's count.\\n\"]\n"
     ]
    }
   ],
   "source": [
    "lines = []\n",
    "\n",
    "with open(\"data/sentences.txt\", 'r') as file:\n",
    "    for line in file:\n",
    "        lines.append(line.lower())\n",
    "n = len(lines)\n",
    "\n",
    "print(lines)"
   ]
  },
  {
   "cell_type": "markdown",
   "metadata": {},
   "source": [
    "Выделение слов в массив"
   ]
  },
  {
   "cell_type": "code",
   "execution_count": 84,
   "metadata": {},
   "outputs": [
    {
     "name": "stdout",
     "output_type": "stream",
     "text": [
      "['in', 'comparison', 'to', 'dogs', 'cats', 'have', 'not', 'undergone', 'major', 'changes', 'during', 'the', 'domestication', 'process', 'as', 'cat', 'simply', 'catenates', 'streams', 'of', 'bytes', 'it', 'can', 'be', 'also', 'used', 'to', 'concatenate', 'binary', 'files', 'where', 'it', 'will', 'just', 'concatenate', 'sequence', 'of', 'bytes', 'a', 'common', 'interactive', 'use', 'of', 'cat', 'for', 'a', 'single', 'file', 'is', 'to', 'output', 'the', 'content', 'of', 'a', 'file', 'to', 'standard', 'output', 'cats', 'can', 'hear', 'sounds', 'too', 'faint', 'or', 'too', 'high', 'in', 'frequency', 'for', 'human', 'ears', 'such', 'as', 'those', 'made', 'by', 'mice', 'and', 'other', 'small', 'animals', 'in', 'one', 'people', 'deliberately', 'tamed', 'cats', 'in', 'a', 'process', 'of', 'artificial', 'selection', 'as', 'they', 'were', 'useful', 'predators', 'of', 'vermin', 'the', 'domesticated', 'cat', 'and', 'its', 'closest', 'wild', 'ancestor', 'are', 'both', 'diploid', 'organisms', 'that', 'possess', 'chromosomes', 'and', 'roughly', 'genes', 'domestic', 'cats', 'are', 'similar', 'in', 'size', 'to', 'the', 'other', 'members', 'of', 'the', 'genus', 'felis', 'typically', 'weighing', 'between', 'and', 'kg', 'and', 'lb', 'however', 'if', 'the', 'output', 'is', 'piped', 'or', 'redirected', 'cat', 'is', 'unnecessary', 'cat', 'with', 'one', 'named', 'file', 'is', 'safer', 'where', 'human', 'error', 'is', 'a', 'concern', 'one', 'wrong', 'use', 'of', 'the', 'default', 'redirection', 'symbol', 'instead', 'of', 'often', 'adjacent', 'on', 'keyboards', 'may', 'permanently', 'delete', 'the', 'file', 'you', 'were', 'just', 'needing', 'to', 'read', 'in', 'terms', 'of', 'legibility', 'a', 'sequence', 'of', 'commands', 'starting', 'with', 'cat', 'and', 'connected', 'by', 'pipes', 'has', 'a', 'clear', 'left', 'to', 'right', 'flow', 'of', 'information', 'cat', 'command', 'is', 'one', 'of', 'the', 'basic', 'commands', 'that', 'you', 'learned', 'when', 'you', 'started', 'in', 'the', 'unix', 'linux', 'world', 'using', 'cat', 'command', 'the', 'lines', 'received', 'from', 'stdin', 'can', 'be', 'redirected', 'to', 'a', 'new', 'file', 'using', 'redirection', 'symbols', 'when', 'you', 'type', 'simply', 'cat', 'command', 'without', 'any', 'arguments', 'it', 'just', 'receives', 'the', 'stdin', 'content', 'and', 'displays', 'it', 'in', 'the', 'stdout', 'leopard', 'was', 'released', 'on', 'october', 'as', 'the', 'successor', 'of', 'tiger', 'version', 'and', 'is', 'available', 'in', 'two', 'editions', 'according', 'to', 'apple', 'leopard', 'contains', 'over', 'changes', 'and', 'enhancements', 'over', 'its', 'predecessor', 'mac', 'os', 'x', 'tiger', 'as', 'of', 'mid', 'some', 'apple', 'computers', 'have', 'firmware', 'factory', 'installed', 'which', 'will', 'no', 'longer', 'allow', 'installation', 'of', 'mac', 'os', 'x', 'leopard', 'since', 'apple', 'moved', 'to', 'using', 'intel', 'processors', 'in', 'their', 'computers', 'the', 'osx', 'community', 'has', 'developed', 'and', 'now', 'also', 'allows', 'mac', 'os', 'x', 'tiger', 'and', 'later', 'releases', 'to', 'be', 'installed', 'on', 'non', 'apple', 'x', 'based', 'computers', 'os', 'x', 'mountain', 'lion', 'was', 'released', 'on', 'july', 'for', 'purchase', 'and', 'download', 'through', 'apple', 's', 'mac', 'app', 'store', 'as', 'part', 'of', 'a', 'switch', 'to', 'releasing', 'os', 'x', 'versions', 'online', 'and', 'every', 'year', 'apple', 'has', 'released', 'a', 'small', 'patch', 'for', 'the', 'three', 'most', 'recent', 'versions', 'of', 'safari', 'running', 'on', 'os', 'x', 'yosemite', 'mavericks', 'and', 'mountain', 'lion', 'the', 'mountain', 'lion', 'release', 'marks', 'the', 'second', 'time', 'apple', 'has', 'offered', 'an', 'incremental', 'upgrade', 'rather', 'than', 'releasing', 'a', 'new', 'cat', 'entirely', 'mac', 'os', 'x', 'mountain', 'lion', 'installs', 'in', 'place', 'so', 'you', 'won', 't', 'need', 'to', 'create', 'a', 'separate', 'disk', 'or', 'run', 'the', 'installation', 'off', 'an', 'external', 'drive', 'the', 'fifth', 'major', 'update', 'to', 'mac', 'os', 'x', 'leopard', 'contains', 'such', 'a', 'mountain', 'of', 'features', 'more', 'than', 'by', 'apple', 's', 'count']\n"
     ]
    }
   ],
   "source": [
    "import re\n",
    "\n",
    "words = []\n",
    "\n",
    "for line in lines:\n",
    "    s = re.split('[^a-z]', line)\n",
    "    for i in s:\n",
    "        if i:\n",
    "            words.append(i)\n",
    "        \n",
    "print(words)"
   ]
  },
  {
   "cell_type": "markdown",
   "metadata": {},
   "source": [
    "## Построение косинусного расстояния"
   ]
  },
  {
   "cell_type": "markdown",
   "metadata": {},
   "source": [
    "Сопоставление словам индексов в словаре"
   ]
  },
  {
   "cell_type": "code",
   "execution_count": 83,
   "metadata": {},
   "outputs": [
    {
     "name": "stdout",
     "output_type": "stream",
     "text": [
      "{'in': 0, 'comparison': 1, 'to': 2, 'dogs': 3, 'cats': 4, 'have': 5, 'not': 6, 'undergone': 7, 'major': 8, 'changes': 9, 'during': 10, 'the': 11, 'domestication': 12, 'process': 13, 'as': 14, 'cat': 15, 'simply': 16, 'catenates': 17, 'streams': 18, 'of': 19, 'bytes': 20, 'it': 21, 'can': 22, 'be': 23, 'also': 24, 'used': 25, 'concatenate': 26, 'binary': 27, 'files': 28, 'where': 29, 'will': 30, 'just': 31, 'sequence': 32, 'a': 33, 'common': 34, 'interactive': 35, 'use': 36, 'for': 37, 'single': 38, 'file': 39, 'is': 40, 'output': 41, 'content': 42, 'standard': 43, 'hear': 44, 'sounds': 45, 'too': 46, 'faint': 47, 'or': 48, 'high': 49, 'frequency': 50, 'human': 51, 'ears': 52, 'such': 53, 'those': 54, 'made': 55, 'by': 56, 'mice': 57, 'and': 58, 'other': 59, 'small': 60, 'animals': 61, 'one': 62, 'people': 63, 'deliberately': 64, 'tamed': 65, 'artificial': 66, 'selection': 67, 'they': 68, 'were': 69, 'useful': 70, 'predators': 71, 'vermin': 72, 'domesticated': 73, 'its': 74, 'closest': 75, 'wild': 76, 'ancestor': 77, 'are': 78, 'both': 79, 'diploid': 80, 'organisms': 81, 'that': 82, 'possess': 83, 'chromosomes': 84, 'roughly': 85, 'genes': 86, 'domestic': 87, 'similar': 88, 'size': 89, 'members': 90, 'genus': 91, 'felis': 92, 'typically': 93, 'weighing': 94, 'between': 95, 'kg': 96, 'lb': 97, 'however': 98, 'if': 99, 'piped': 100, 'redirected': 101, 'unnecessary': 102, 'with': 103, 'named': 104, 'safer': 105, 'error': 106, 'concern': 107, 'wrong': 108, 'default': 109, 'redirection': 110, 'symbol': 111, 'instead': 112, 'often': 113, 'adjacent': 114, 'on': 115, 'keyboards': 116, 'may': 117, 'permanently': 118, 'delete': 119, 'you': 120, 'needing': 121, 'read': 122, 'terms': 123, 'legibility': 124, 'commands': 125, 'starting': 126, 'connected': 127, 'pipes': 128, 'has': 129, 'clear': 130, 'left': 131, 'right': 132, 'flow': 133, 'information': 134, 'command': 135, 'basic': 136, 'learned': 137, 'when': 138, 'started': 139, 'unix': 140, 'linux': 141, 'world': 142, 'using': 143, 'lines': 144, 'received': 145, 'from': 146, 'stdin': 147, 'new': 148, 'symbols': 149, 'type': 150, 'without': 151, 'any': 152, 'arguments': 153, 'receives': 154, 'displays': 155, 'stdout': 156, 'leopard': 157, 'was': 158, 'released': 159, 'october': 160, 'successor': 161, 'tiger': 162, 'version': 163, 'available': 164, 'two': 165, 'editions': 166, 'according': 167, 'apple': 168, 'contains': 169, 'over': 170, 'enhancements': 171, 'predecessor': 172, 'mac': 173, 'os': 174, 'x': 175, 'mid': 176, 'some': 177, 'computers': 178, 'firmware': 179, 'factory': 180, 'installed': 181, 'which': 182, 'no': 183, 'longer': 184, 'allow': 185, 'installation': 186, 'since': 187, 'moved': 188, 'intel': 189, 'processors': 190, 'their': 191, 'osx': 192, 'community': 193, 'developed': 194, 'now': 195, 'allows': 196, 'later': 197, 'releases': 198, 'non': 199, 'based': 200, 'mountain': 201, 'lion': 202, 'july': 203, 'purchase': 204, 'download': 205, 'through': 206, 's': 207, 'app': 208, 'store': 209, 'part': 210, 'switch': 211, 'releasing': 212, 'versions': 213, 'online': 214, 'every': 215, 'year': 216, 'patch': 217, 'three': 218, 'most': 219, 'recent': 220, 'safari': 221, 'running': 222, 'yosemite': 223, 'mavericks': 224, 'release': 225, 'marks': 226, 'second': 227, 'time': 228, 'offered': 229, 'an': 230, 'incremental': 231, 'upgrade': 232, 'rather': 233, 'than': 234, 'entirely': 235, 'installs': 236, 'place': 237, 'so': 238, 'won': 239, 't': 240, 'need': 241, 'create': 242, 'separate': 243, 'disk': 244, 'run': 245, 'off': 246, 'external': 247, 'drive': 248, 'fifth': 249, 'update': 250, 'features': 251, 'more': 252, 'count': 253}\n"
     ]
    }
   ],
   "source": [
    "d_words = dict()\n",
    "d = 0\n",
    "for word in words:\n",
    "    if word in d_words:\n",
    "        continue\n",
    "    else:\n",
    "        d_words[word] = d\n",
    "        d += 1\n",
    "print(d_words)"
   ]
  },
  {
   "cell_type": "markdown",
   "metadata": {},
   "source": [
    "Создание матрицы (i, j) - количество слов: i - строка, j - индекс слова"
   ]
  },
  {
   "cell_type": "code",
   "execution_count": 87,
   "metadata": {},
   "outputs": [
    {
     "name": "stdout",
     "output_type": "stream",
     "text": [
      "[[1. 1. 1. ... 0. 0. 0.]\n",
      " [0. 0. 1. ... 0. 0. 0.]\n",
      " [0. 0. 2. ... 0. 0. 0.]\n",
      " ...\n",
      " [0. 0. 0. ... 0. 0. 0.]\n",
      " [1. 0. 1. ... 0. 0. 0.]\n",
      " [0. 0. 1. ... 1. 1. 1.]]\n"
     ]
    }
   ],
   "source": [
    "import numpy as np\n",
    "\n",
    "A = np.zeros((n, d))\n",
    "\n",
    "for i in range(n):\n",
    "    for word in re.split('[^a-z]', lines[i]):\n",
    "        if word:\n",
    "            A[i][d_words[word]] += 1\n",
    "            \n",
    "print(A)"
   ]
  },
  {
   "cell_type": "markdown",
   "metadata": {},
   "source": [
    "Построение косинусного расстояния между всеми парами строк"
   ]
  },
  {
   "cell_type": "code",
   "execution_count": 91,
   "metadata": {},
   "outputs": [
    {
     "name": "stdout",
     "output_type": "stream",
     "text": [
      "[[0.         0.95275444 0.86447381 0.89517152 0.77708871 0.94023857\n",
      "  0.73273876 0.92587507 0.88427249 0.90550888 0.83281654 0.88047714\n",
      "  0.83964325 0.87035926 0.87401184 0.94427218 0.84063619 0.9566445\n",
      "  0.94427218 0.88854436 0.84275727 0.82503645]\n",
      " [0.95275444 0.         0.79083499 0.93066248 0.81569755 0.96047153\n",
      "  0.89393398 0.95097097 0.79587585 0.71875    0.88941853 0.84188612\n",
      "  0.75251263 0.87137606 0.95833333 0.77883707 0.89459074 0.88529213\n",
      "  0.92627902 0.96313951 0.96533124 0.88427249]\n",
      " [0.86447381 0.79083499 0.         0.96685032 0.75328242 0.92440711\n",
      "  0.79716298 0.71871566 0.53644747 0.55178927 0.78852779 0.65983197\n",
      "  0.86477532 0.83601599 0.92031809 0.85901852 0.87401184 0.7806366\n",
      "  0.75328242 0.78852779 0.80110194 0.70491555]\n",
      " [0.89517152 0.93066248 0.96685032 0.         0.83642784 0.9122942\n",
      "  0.80388386 0.94560717 0.97169307 0.89599371 0.95910696 0.9561471\n",
      "  0.92155355 0.85730455 0.95377498 0.95910696 0.9122942  0.87274305\n",
      "  0.87732088 1.         0.92307692 0.9144079 ]\n",
      " [0.77708871 0.81569755 0.75328242 0.83642784 0.         1.\n",
      "  0.79148559 1.         0.75922829 0.63139511 0.7826087  0.95337476\n",
      "  0.91659423 0.74713913 1.         0.7826087  0.93783301 0.86469798\n",
      "  0.86956522 0.95652174 0.87732088 0.86349527]\n",
      " [0.94023857 0.96047153 0.92440711 0.9122942  1.         0.\n",
      "  0.68695048 0.87596527 0.90317542 0.88141459 0.81349904 0.9\n",
      "  0.7763932  0.83730216 0.84188612 1.         0.83333333 0.85490475\n",
      "  0.86012428 0.86012428 0.9561471  0.951205  ]\n",
      " [0.73273876 0.89393398 0.79716298 0.80388386 0.79148559 0.68695048\n",
      "  0.         0.88905996 0.79792741 0.75251263 0.7497827  0.86583592\n",
      "  0.72       0.70895725 0.85857864 0.91659423 0.73167184 0.80533429\n",
      "  0.79148559 0.83318847 0.84310709 0.82542569]\n",
      " [0.92587507 0.95097097 0.71871566 0.94560717 1.         0.87596527\n",
      "  0.88905996 0.         0.71977573 0.95097097 0.71084253 0.8139479\n",
      "  0.83358994 0.79819816 1.         1.         0.95865509 1.\n",
      "  0.94216851 0.82650552 0.89121434 0.93947725]\n",
      " [0.88427249 0.79587585 0.53644747 0.97169307 0.75922829 0.90317542\n",
      "  0.79792741 0.71977573 0.         0.7193293  0.60874598 0.74180111\n",
      "  0.79792741 0.75495099 0.96597931 0.87961415 0.89241713 0.88292677\n",
      "  0.81942122 0.81942122 0.85846537 0.81101776]\n",
      " [0.90550888 0.71875    0.55178927 0.89599371 0.63139511 0.88141459\n",
      "  0.75251263 0.95097097 0.7193293  0.         0.77883707 0.84188612\n",
      "  0.89393398 0.78562677 0.91666667 0.77883707 0.84188612 0.77058427\n",
      "  0.74197658 0.85255804 0.86132495 0.72996914]\n",
      " [0.83281654 0.88941853 0.78852779 0.95910696 0.7826087  0.81349904\n",
      "  0.7497827  0.71084253 0.60874598 0.77883707 0.         0.81349904\n",
      "  0.58297117 0.74713913 1.         0.91304348 0.90674952 0.9661745\n",
      "  0.86956522 0.7826087  0.79553479 0.86349527]\n",
      " [0.88047714 0.84188612 0.65983197 0.9561471  0.95337476 0.9\n",
      "  0.86583592 0.8139479  0.74180111 0.84188612 0.81349904 0.\n",
      "  0.7763932  0.94576739 0.94729537 1.         0.8        0.92745237\n",
      "  0.90674952 0.7668738  0.8684413  0.85361499]\n",
      " [0.83964325 0.75251263 0.86477532 0.92155355 0.91659423 0.7763932\n",
      "  0.72       0.83358994 0.79792741 0.89393398 0.58297117 0.7763932\n",
      "  0.         0.8059715  0.95285955 1.         0.8509288  0.93511143\n",
      "  0.87489135 0.79148559 0.84310709 0.91271284]\n",
      " [0.87035926 0.87137606 0.83601599 0.85730455 0.74713913 0.83730216\n",
      "  0.70895725 0.79819816 0.75495099 0.78562677 0.74713913 0.94576739\n",
      "  0.8059715  0.         0.82850141 0.79771131 0.78306954 0.72458868\n",
      "  0.74713913 0.89885565 0.9048697  0.84122316]\n",
      " [0.87401184 0.95833333 0.92031809 0.95377498 1.         0.84188612\n",
      "  0.85857864 1.         0.96597931 0.91666667 1.         0.94729537\n",
      "  0.95285955 0.82850141 0.         0.75426341 0.6134994  0.6558764\n",
      "  0.80341073 0.95085268 0.81509993 0.63995885]\n",
      " [0.94427218 0.77883707 0.85901852 0.95910696 0.7826087  1.\n",
      "  0.91659423 1.         0.87961415 0.77883707 0.91304348 1.\n",
      "  1.         0.79771131 0.75426341 0.         0.72024856 0.69557046\n",
      "  0.7826087  0.95652174 0.83642784 0.68148897]\n",
      " [0.84063619 0.89459074 0.87401184 0.9122942  0.93783301 0.83333333\n",
      "  0.73167184 0.95865509 0.89241713 0.84188612 0.90674952 0.8\n",
      "  0.8509288  0.78306954 0.6134994  0.72024856 0.         0.61307933\n",
      "  0.68916506 0.84458253 0.76611786 0.70722998]\n",
      " [0.9566445  0.88529213 0.7806366  0.87274305 0.86469798 0.85490475\n",
      "  0.80533429 1.         0.88292677 0.77058427 0.9661745  0.92745237\n",
      "  0.93511143 0.72458868 0.6558764  0.69557046 0.61307933 0.\n",
      "  0.49261743 0.83087248 0.71367186 0.61060422]\n",
      " [0.94427218 0.92627902 0.75328242 0.87732088 0.86956522 0.86012428\n",
      "  0.79148559 0.94216851 0.81942122 0.74197658 0.86956522 0.90674952\n",
      "  0.87489135 0.74713913 0.80341073 0.7826087  0.68916506 0.49261743\n",
      "  0.         0.69565217 0.75464175 0.68148897]\n",
      " [0.88854436 0.96313951 0.78852779 1.         0.95652174 0.86012428\n",
      "  0.83318847 0.82650552 0.81942122 0.85255804 0.7826087  0.7668738\n",
      "  0.79148559 0.89885565 0.95085268 0.95652174 0.84458253 0.83087248\n",
      "  0.69565217 0.         0.75464175 0.72699055]\n",
      " [0.84275727 0.96533124 0.80110194 0.92307692 0.87732088 0.9561471\n",
      "  0.84310709 0.89121434 0.85846537 0.86132495 0.79553479 0.8684413\n",
      "  0.84310709 0.9048697  0.81509993 0.83642784 0.76611786 0.71367186\n",
      "  0.75464175 0.75464175 0.         0.70042766]\n",
      " [0.82503645 0.88427249 0.70491555 0.9144079  0.86349527 0.951205\n",
      "  0.82542569 0.93947725 0.81101776 0.72996914 0.86349527 0.85361499\n",
      "  0.91271284 0.84122316 0.63995885 0.68148897 0.70722998 0.61060422\n",
      "  0.68148897 0.72699055 0.70042766 0.        ]]\n"
     ]
    }
   ],
   "source": [
    "from scipy.spatial import distance\n",
    "\n",
    "B = np.ones((n, n))\n",
    "\n",
    "for i in range(n):\n",
    "    for j in range(n):\n",
    "        B[i, j] = distance.cosine(A[i], A[j])\n",
    "\n",
    "print(B)"
   ]
  },
  {
   "cell_type": "markdown",
   "metadata": {},
   "source": [
    "## Обработка первого предложения"
   ]
  },
  {
   "cell_type": "markdown",
   "metadata": {},
   "source": [
    "Найдем максимально близкие предложения к первому"
   ]
  },
  {
   "cell_type": "code",
   "execution_count": 101,
   "metadata": {},
   "outputs": [
    {
     "name": "stdout",
     "output_type": "stream",
     "text": [
      "0.0\t0\tin comparison to dogs, ca\n",
      "0.733\t6\tdomestic cats are similar\n",
      "0.777\t4\tin one, people deliberate\n",
      "0.825\t21\tthe fifth major update to\n",
      "0.833\t10\tcat command is one of the\n",
      "0.84\t12\twhen you type simply cat \n",
      "0.841\t16\tsince apple moved to usin\n",
      "0.843\t20\tmac os x mountain lion in\n",
      "0.864\t2\ta common interactive use \n",
      "0.87\t13\tleopard was released on o\n",
      "0.874\t14\taccording to apple, leopa\n",
      "0.88\t11\tusing cat command, the li\n",
      "0.884\t8\tcat with one named file i\n",
      "0.889\t19\tthe mountain lion release\n",
      "0.895\t3\tcats can hear sounds too \n",
      "0.906\t9\tin terms of legibility, a\n",
      "0.926\t7\thowever, if the output is\n",
      "0.94\t5\tthe domesticated cat and \n",
      "0.944\t15\tas of mid 2010, some appl\n",
      "0.944\t18\tapple has released a smal\n",
      "0.953\t1\tas cat simply catenates s\n",
      "0.957\t17\tos x mountain lion was re\n"
     ]
    }
   ],
   "source": [
    "b = B[0, :]\n",
    "dist_to_line = []\n",
    "\n",
    "for i in range(n):\n",
    "    dist_to_line.append([b[i], i, lines[i]])\n",
    "    \n",
    "dist_to_line.sort()\n",
    "\n",
    "for l in dist_to_line:\n",
    "    print(round(l[0], 3), l[1], l[2][:25], sep=\"\\t\")"
   ]
  },
  {
   "cell_type": "markdown",
   "metadata": {},
   "source": [
    "Получаем самые близкие к первому предложению: 6 и 4."
   ]
  }
 ],
 "metadata": {
  "kernelspec": {
   "display_name": "Python 3",
   "language": "python",
   "name": "python3"
  },
  "language_info": {
   "codemirror_mode": {
    "name": "ipython",
    "version": 3
   },
   "file_extension": ".py",
   "mimetype": "text/x-python",
   "name": "python",
   "nbconvert_exporter": "python",
   "pygments_lexer": "ipython3",
   "version": "3.6.5"
  }
 },
 "nbformat": 4,
 "nbformat_minor": 2
}
