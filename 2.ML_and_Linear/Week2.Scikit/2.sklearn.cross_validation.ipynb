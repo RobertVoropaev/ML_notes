{
 "cells": [
  {
   "cell_type": "markdown",
   "metadata": {},
   "source": [
    "# Sklearn"
   ]
  },
  {
   "cell_type": "markdown",
   "metadata": {},
   "source": [
    "## sklearn.cross_validation"
   ]
  },
  {
   "cell_type": "markdown",
   "metadata": {},
   "source": [
    "документация: http://scikit-learn.org/stable/modules/cross_validation.html"
   ]
  },
  {
   "cell_type": "code",
   "execution_count": null,
   "metadata": {},
   "outputs": [],
   "source": [
    "from sklearn import cross_validation, datasets\n",
    "\n",
    "import numpy as np"
   ]
  },
  {
   "cell_type": "markdown",
   "metadata": {},
   "source": [
    "### Разовое разбиение данных на обучение и тест с помощью train_test_split"
   ]
  },
  {
   "cell_type": "code",
   "execution_count": 3,
   "metadata": {},
   "outputs": [],
   "source": [
    "iris = datasets.load_iris()"
   ]
  },
  {
   "cell_type": "code",
   "execution_count": 4,
   "metadata": {},
   "outputs": [],
   "source": [
    "train_data, test_data, train_labels, test_labels = cross_validation.train_test_split(iris.data,\n",
    "                                                                                     iris.target, \n",
    "                                                                                     test_size = 0.3)"
   ]
  },
  {
   "cell_type": "code",
   "execution_count": 5,
   "metadata": {},
   "outputs": [
    {
     "data": {
      "text/plain": [
       "0.3"
      ]
     },
     "execution_count": 5,
     "metadata": {},
     "output_type": "execute_result"
    }
   ],
   "source": [
    "#убедимся, что тестовая выборка действительно составляет 0.3 от всех данных\n",
    "float(len(test_labels))/len(iris.data)"
   ]
  },
  {
   "cell_type": "code",
   "execution_count": 6,
   "metadata": {},
   "outputs": [
    {
     "name": "stdout",
     "output_type": "stream",
     "text": [
      "Размер обучающей выборки: 105 объектов \n",
      "Размер тестовой выборки: 45 объектов\n"
     ]
    }
   ],
   "source": [
    "print ('Размер обучающей выборки: {} объектов \\nРазмер тестовой выборки: {} объектов'.format(len(train_data),\n",
    "                                                                                            len(test_data)))"
   ]
  },
  {
   "cell_type": "code",
   "execution_count": 7,
   "metadata": {},
   "outputs": [
    {
     "name": "stdout",
     "output_type": "stream",
     "text": [
      "Обучающая выборка:\n",
      " [[7.7 3.  6.1 2.3]\n",
      " [5.6 2.9 3.6 1.3]\n",
      " [6.4 3.2 4.5 1.5]\n",
      " [5.8 4.  1.2 0.2]\n",
      " [5.5 2.6 4.4 1.2]]\n",
      "\n",
      "\n",
      "Тестовая выборка:\n",
      " [[5.5 2.3 4.  1.3]\n",
      " [5.7 2.5 5.  2. ]\n",
      " [6.8 2.8 4.8 1.4]\n",
      " [6.2 2.2 4.5 1.5]\n",
      " [5.1 3.5 1.4 0.2]]\n"
     ]
    }
   ],
   "source": [
    "print ('Обучающая выборка:\\n', train_data[:5])\n",
    "print ('\\n')\n",
    "print ('Тестовая выборка:\\n', test_data[:5])"
   ]
  },
  {
   "cell_type": "code",
   "execution_count": 8,
   "metadata": {},
   "outputs": [
    {
     "name": "stdout",
     "output_type": "stream",
     "text": [
      "Метки классов на обучающей выборке:\n",
      " [2 1 1 0 1 1 1 1 1 0 2 0 0 2 0 1 2 0 1 2 1 2 1 0 0 1 0 1 2 2 2 0 1 2 0 0 1\n",
      " 0 1 2 0 1 2 2 2 0 2 2 1 0 0 2 0 0 0 1 1 2 0 1 2 0 0 0 2 0 0 1 1 1 0 0 1 0\n",
      " 0 2 0 1 0 2 1 0 1 2 1 0 2 1 1 0 0 2 1 2 0 0 1 0 0 1 2 2 1 2 1]\n",
      "\n",
      "\n",
      "Метки классов на тестовой выборке:\n",
      " [1 2 1 1 0 1 0 2 1 2 2 1 0 2 0 2 0 2 2 2 1 2 2 1 1 2 2 1 1 0 2 2 2 0 2 1 2\n",
      " 2 0 0 2 1 2 0 1]\n"
     ]
    }
   ],
   "source": [
    "print ('Метки классов на обучающей выборке:\\n', train_labels)\n",
    "print ('\\n')\n",
    "print ('Метки классов на тестовой выборке:\\n', test_labels)"
   ]
  },
  {
   "cell_type": "markdown",
   "metadata": {},
   "source": [
    "### Стратегии проведения кросс-валидации"
   ]
  },
  {
   "cell_type": "markdown",
   "metadata": {},
   "source": [
    "#### KFold"
   ]
  },
  {
   "cell_type": "markdown",
   "metadata": {},
   "source": [
    "Генерирует список индексов разбиения на выборки для обучения и теста"
   ]
  },
  {
   "cell_type": "code",
   "execution_count": 9,
   "metadata": {},
   "outputs": [
    {
     "name": "stdout",
     "output_type": "stream",
     "text": [
      "[2 3 4 5 6 7 8 9] [0 1]\n",
      "[0 1 4 5 6 7 8 9] [2 3]\n",
      "[0 1 2 3 6 7 8 9] [4 5]\n",
      "[0 1 2 3 4 5 8 9] [6 7]\n",
      "[0 1 2 3 4 5 6 7] [8 9]\n"
     ]
    }
   ],
   "source": [
    "for train_indices, test_indices in cross_validation.KFold(10, #размер данных\n",
    "                                                          n_folds = 5): #количество разбиений\n",
    "    print (train_indices, test_indices)"
   ]
  },
  {
   "cell_type": "markdown",
   "metadata": {},
   "source": [
    "Заметим, что список в исходном порядке - для отсортировки:"
   ]
  },
  {
   "cell_type": "code",
   "execution_count": 10,
   "metadata": {},
   "outputs": [
    {
     "name": "stdout",
     "output_type": "stream",
     "text": [
      "[0 1 2 3 5] [4 6 7 8 9]\n",
      "[4 6 7 8 9] [0 1 2 3 5]\n"
     ]
    }
   ],
   "source": [
    "for train_indices, test_indices in cross_validation.KFold(10,\n",
    "                                                          n_folds = 2,\n",
    "                                                          shuffle = True):\n",
    "    print (train_indices, test_indices)"
   ]
  },
  {
   "cell_type": "markdown",
   "metadata": {},
   "source": [
    "Для фиксации разбиения:"
   ]
  },
  {
   "cell_type": "code",
   "execution_count": 11,
   "metadata": {},
   "outputs": [
    {
     "ename": "SyntaxError",
     "evalue": "Missing parentheses in call to 'print'. Did you mean print(train_indices, test_indices)? (<ipython-input-11-97d4948017be>, line 5)",
     "output_type": "error",
     "traceback": [
      "\u001b[0;36m  File \u001b[0;32m\"<ipython-input-11-97d4948017be>\"\u001b[0;36m, line \u001b[0;32m5\u001b[0m\n\u001b[0;31m    print train_indices, test_indices\u001b[0m\n\u001b[0m                      ^\u001b[0m\n\u001b[0;31mSyntaxError\u001b[0m\u001b[0;31m:\u001b[0m Missing parentheses in call to 'print'. Did you mean print(train_indices, test_indices)?\n"
     ]
    }
   ],
   "source": [
    "for train_indices, test_indices in cross_validation.KFold(10,\n",
    "                                                          n_folds = 2,\n",
    "                                                          shuffle = True,\n",
    "                                                          random_state = 1):\n",
    "    print train_indices, test_indices"
   ]
  },
  {
   "cell_type": "markdown",
   "metadata": {},
   "source": [
    "#### StratifiedKFold"
   ]
  },
  {
   "cell_type": "markdown",
   "metadata": {},
   "source": [
    "Для сохранения баланса класса по меткам"
   ]
  },
  {
   "cell_type": "code",
   "execution_count": 12,
   "metadata": {},
   "outputs": [
    {
     "name": "stdout",
     "output_type": "stream",
     "text": [
      "[0 0 0 0 0 1 1 1 1 1]\n",
      "[3 4 8 9] [0 1 2 5 6 7]\n",
      "[0 1 2 5 6 7] [3 4 8 9]\n"
     ]
    }
   ],
   "source": [
    "target = np.array([0] * 5 + [1] * 5)\n",
    "print (target)\n",
    "for train_indices, test_indices in cross_validation.StratifiedKFold(target,\n",
    "                                                                    n_folds = 2,\n",
    "                                                                    shuffle = True,\n",
    "                                                                    random_state = 0):\n",
    "    print (train_indices, test_indices)"
   ]
  },
  {
   "cell_type": "code",
   "execution_count": 13,
   "metadata": {},
   "outputs": [
    {
     "name": "stdout",
     "output_type": "stream",
     "text": [
      "[0 1 0 1 0 1 0 1 0 1]\n",
      "[4 5 6 7] [0 1 2 3 8 9]\n",
      "[0 1 2 3 8 9] [4 5 6 7]\n"
     ]
    }
   ],
   "source": [
    "target = np.array([0, 1] * 5)\n",
    "print (target)\n",
    "for train_indices, test_indices in cross_validation.StratifiedKFold(target,\n",
    "                                                                    n_folds = 2,\n",
    "                                                                    shuffle = True):\n",
    "    print (train_indices, test_indices)"
   ]
  },
  {
   "cell_type": "markdown",
   "metadata": {},
   "source": [
    "#### ShuffleSplit"
   ]
  },
  {
   "cell_type": "markdown",
   "metadata": {},
   "source": [
    "Случайное разбиение"
   ]
  },
  {
   "cell_type": "code",
   "execution_count": 19,
   "metadata": {},
   "outputs": [
    {
     "name": "stdout",
     "output_type": "stream",
     "text": [
      "[7 9 3 2 6 1 0 4] [5 8]\n",
      "[8 3 7 5 1 6 0 2] [9 4]\n",
      "[4 3 0 1 2 9 5 6] [8 7]\n",
      "[0 6 4 1 7 5 3 2] [8 9]\n",
      "[8 7 1 5 3 9 4 6] [0 2]\n",
      "[9 3 6 1 5 0 2 8] [4 7]\n",
      "[9 0 8 7 6 4 5 1] [3 2]\n",
      "[1 7 8 2 9 3 5 6] [4 0]\n",
      "[5 6 4 7 1 0 3 8] [9 2]\n",
      "[7 0 9 3 6 8 2 4] [5 1]\n"
     ]
    }
   ],
   "source": [
    "for train_indices, test_indices in cross_validation.ShuffleSplit(10,\n",
    "                                                                 n_iter = 10,\n",
    "                                                                 test_size = 0.2):\n",
    "    print (train_indices, test_indices)"
   ]
  },
  {
   "cell_type": "markdown",
   "metadata": {},
   "source": [
    "#### StratifiedShuffleSplit"
   ]
  },
  {
   "cell_type": "markdown",
   "metadata": {},
   "source": [
    "Случайное разбиение с исходным соотношением классов"
   ]
  },
  {
   "cell_type": "code",
   "execution_count": 17,
   "metadata": {},
   "outputs": [
    {
     "name": "stdout",
     "output_type": "stream",
     "text": [
      "[0 0 0 0 0 1 1 1 1 1]\n",
      "[4 6 1 9 8 5 2 0] [3 7]\n",
      "[9 3 7 2 5 8 0 4] [6 1]\n",
      "[8 4 6 9 0 2 7 1] [5 3]\n",
      "[6 2 8 4 0 9 7 3] [5 1]\n"
     ]
    }
   ],
   "source": [
    "target = np.array([0] * 5 + [1] * 5)\n",
    "print (target)\n",
    "for train_indices, test_indices in cross_validation.StratifiedShuffleSplit(target,\n",
    "                                                                           n_iter = 4,\n",
    "                                                                           test_size = 0.2):\n",
    "    print (train_indices, test_indices)"
   ]
  },
  {
   "cell_type": "markdown",
   "metadata": {},
   "source": [
    "#### Leave-One-Out"
   ]
  },
  {
   "cell_type": "markdown",
   "metadata": {},
   "source": [
    "Разбиение с одним объектом в тесте"
   ]
  },
  {
   "cell_type": "code",
   "execution_count": 18,
   "metadata": {},
   "outputs": [
    {
     "name": "stdout",
     "output_type": "stream",
     "text": [
      "[1 2 3 4 5 6 7 8 9] [0]\n",
      "[0 2 3 4 5 6 7 8 9] [1]\n",
      "[0 1 3 4 5 6 7 8 9] [2]\n",
      "[0 1 2 4 5 6 7 8 9] [3]\n",
      "[0 1 2 3 5 6 7 8 9] [4]\n",
      "[0 1 2 3 4 6 7 8 9] [5]\n",
      "[0 1 2 3 4 5 7 8 9] [6]\n",
      "[0 1 2 3 4 5 6 8 9] [7]\n",
      "[0 1 2 3 4 5 6 7 9] [8]\n",
      "[0 1 2 3 4 5 6 7 8] [9]\n"
     ]
    }
   ],
   "source": [
    "for train_indices, test_index in cross_validation.LeaveOneOut(10):\n",
    "    print (train_indices, test_index)"
   ]
  },
  {
   "cell_type": "markdown",
   "metadata": {},
   "source": [
    "Больше стратегий проведения кросс-валидации доступно здесь: http://scikit-learn.org/stable/modules/cross_validation.html#cross-validation-iterators"
   ]
  }
 ],
 "metadata": {
  "kernelspec": {
   "display_name": "Python 3",
   "language": "python",
   "name": "python3"
  },
  "language_info": {
   "codemirror_mode": {
    "name": "ipython",
    "version": 3
   },
   "file_extension": ".py",
   "mimetype": "text/x-python",
   "name": "python",
   "nbconvert_exporter": "python",
   "pygments_lexer": "ipython3",
   "version": "3.7.4"
  }
 },
 "nbformat": 4,
 "nbformat_minor": 1
}
